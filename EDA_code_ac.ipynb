{
 "cells": [
  {
   "cell_type": "code",
   "execution_count": 47,
   "metadata": {
    "collapsed": true
   },
   "outputs": [
    {
     "data": {
      "text/html": "<style>\n        .bk-notebook-logo {\n            display: block;\n            width: 20px;\n            height: 20px;\n            background-image: url(data:image/png;base64,iVBORw0KGgoAAAANSUhEUgAAABQAAAAUCAYAAACNiR0NAAAABHNCSVQICAgIfAhkiAAAAAlwSFlzAAALEgAACxIB0t1+/AAAABx0RVh0U29mdHdhcmUAQWRvYmUgRmlyZXdvcmtzIENTNui8sowAAAOkSURBVDiNjZRtaJVlGMd/1/08zzln5zjP1LWcU9N0NkN8m2CYjpgQYQXqSs0I84OLIC0hkEKoPtiH3gmKoiJDU7QpLgoLjLIQCpEsNJ1vqUOdO7ppbuec5+V+rj4ctwzd8IIbbi6u+8f1539dt3A78eXC7QizUF7gyV1fD1Yqg4JWz84yffhm0qkFqBogB9rM8tZdtwVsPUhWhGcFJngGeWrPzHm5oaMmkfEg1usvLFyc8jLRqDOMru7AyC8saQr7GG7f5fvDeH7Ej8CM66nIF+8yngt6HWaKh7k49Soy9nXurCi1o3qUbS3zWfrYeQDTB/Qj6kX6Ybhw4B+bOYoLKCC9H3Nu/leUTZ1JdRWkkn2ldcCamzrcf47KKXdAJllSlxAOkRgyHsGC/zRday5Qld9DyoM4/q/rUoy/CXh3jzOu3bHUVZeU+DEn8FInkPBFlu3+nW3Nw0mk6vCDiWg8CeJaxEwuHS3+z5RgY+YBR6V1Z1nxSOfoaPa4LASWxxdNp+VWTk7+4vzaou8v8PN+xo+KY2xsw6une2frhw05CTYOmQvsEhjhWjn0bmXPjpE1+kplmmkP3suftwTubK9Vq22qKmrBhpY4jvd5afdRA3wGjFAgcnTK2s4hY0/GPNIb0nErGMCRxWOOX64Z8RAC4oCXdklmEvcL8o0BfkNK4lUg9HTl+oPlQxdNo3Mg4Nv175e/1LDGzZen30MEjRUtmXSfiTVu1kK8W4txyV6BMKlbgk3lMwYCiusNy9fVfvvwMxv8Ynl6vxoByANLTWplvuj/nF9m2+PDtt1eiHPBr1oIfhCChQMBw6Aw0UulqTKZdfVvfG7VcfIqLG9bcldL/+pdWTLxLUy8Qq38heUIjh4XlzZxzQm19lLFlr8vdQ97rjZVOLf8nclzckbcD4wxXMidpX30sFd37Fv/GtwwhzhxGVAprjbg0gCAEeIgwCZyTV2Z1REEW8O4py0wsjeloKoMr6iCY6dP92H6Vw/oTyICIthibxjm/DfN9lVz8IqtqKYLUXfoKVMVQVVJOElGjrnnUt9T9wbgp8AyYKaGlqingHZU/uG2NTZSVqwHQTWkx9hxjkpWDaCg6Ckj5qebgBVbT3V3NNXMSiWSDdGV3hrtzla7J+duwPOToIg42ChPQOQjspnSlp1V+Gjdged7+8UN5CRAV7a5EdFNwCjEaBR27b3W890TE7g24NAP/mMDXRWrGoFPQI9ls/MWO2dWFAar/xcOIImbbpA3zgAAAABJRU5ErkJggg==);\n        }\n    </style>\n    <div>\n        <a href=\"https://bokeh.org\" target=\"_blank\" class=\"bk-notebook-logo\"></a>\n        <span id=\"p1001\">Loading BokehJS ...</span>\n    </div>\n"
     },
     "metadata": {},
     "output_type": "display_data"
    },
    {
     "data": {
      "application/javascript": "(function(root) {\n  function now() {\n    return new Date();\n  }\n\n  const force = true;\n\n  if (typeof root._bokeh_onload_callbacks === \"undefined\" || force === true) {\n    root._bokeh_onload_callbacks = [];\n    root._bokeh_is_loading = undefined;\n  }\n\nconst JS_MIME_TYPE = 'application/javascript';\n  const HTML_MIME_TYPE = 'text/html';\n  const EXEC_MIME_TYPE = 'application/vnd.bokehjs_exec.v0+json';\n  const CLASS_NAME = 'output_bokeh rendered_html';\n\n  /**\n   * Render data to the DOM node\n   */\n  function render(props, node) {\n    const script = document.createElement(\"script\");\n    node.appendChild(script);\n  }\n\n  /**\n   * Handle when an output is cleared or removed\n   */\n  function handleClearOutput(event, handle) {\n    const cell = handle.cell;\n\n    const id = cell.output_area._bokeh_element_id;\n    const server_id = cell.output_area._bokeh_server_id;\n    // Clean up Bokeh references\n    if (id != null && id in Bokeh.index) {\n      Bokeh.index[id].model.document.clear();\n      delete Bokeh.index[id];\n    }\n\n    if (server_id !== undefined) {\n      // Clean up Bokeh references\n      const cmd_clean = \"from bokeh.io.state import curstate; print(curstate().uuid_to_server['\" + server_id + \"'].get_sessions()[0].document.roots[0]._id)\";\n      cell.notebook.kernel.execute(cmd_clean, {\n        iopub: {\n          output: function(msg) {\n            const id = msg.content.text.trim();\n            if (id in Bokeh.index) {\n              Bokeh.index[id].model.document.clear();\n              delete Bokeh.index[id];\n            }\n          }\n        }\n      });\n      // Destroy server and session\n      const cmd_destroy = \"import bokeh.io.notebook as ion; ion.destroy_server('\" + server_id + \"')\";\n      cell.notebook.kernel.execute(cmd_destroy);\n    }\n  }\n\n  /**\n   * Handle when a new output is added\n   */\n  function handleAddOutput(event, handle) {\n    const output_area = handle.output_area;\n    const output = handle.output;\n\n    // limit handleAddOutput to display_data with EXEC_MIME_TYPE content only\n    if ((output.output_type != \"display_data\") || (!Object.prototype.hasOwnProperty.call(output.data, EXEC_MIME_TYPE))) {\n      return\n    }\n\n    const toinsert = output_area.element.find(\".\" + CLASS_NAME.split(' ')[0]);\n\n    if (output.metadata[EXEC_MIME_TYPE][\"id\"] !== undefined) {\n      toinsert[toinsert.length - 1].firstChild.textContent = output.data[JS_MIME_TYPE];\n      // store reference to embed id on output_area\n      output_area._bokeh_element_id = output.metadata[EXEC_MIME_TYPE][\"id\"];\n    }\n    if (output.metadata[EXEC_MIME_TYPE][\"server_id\"] !== undefined) {\n      const bk_div = document.createElement(\"div\");\n      bk_div.innerHTML = output.data[HTML_MIME_TYPE];\n      const script_attrs = bk_div.children[0].attributes;\n      for (let i = 0; i < script_attrs.length; i++) {\n        toinsert[toinsert.length - 1].firstChild.setAttribute(script_attrs[i].name, script_attrs[i].value);\n        toinsert[toinsert.length - 1].firstChild.textContent = bk_div.children[0].textContent\n      }\n      // store reference to server id on output_area\n      output_area._bokeh_server_id = output.metadata[EXEC_MIME_TYPE][\"server_id\"];\n    }\n  }\n\n  function register_renderer(events, OutputArea) {\n\n    function append_mime(data, metadata, element) {\n      // create a DOM node to render to\n      const toinsert = this.create_output_subarea(\n        metadata,\n        CLASS_NAME,\n        EXEC_MIME_TYPE\n      );\n      this.keyboard_manager.register_events(toinsert);\n      // Render to node\n      const props = {data: data, metadata: metadata[EXEC_MIME_TYPE]};\n      render(props, toinsert[toinsert.length - 1]);\n      element.append(toinsert);\n      return toinsert\n    }\n\n    /* Handle when an output is cleared or removed */\n    events.on('clear_output.CodeCell', handleClearOutput);\n    events.on('delete.Cell', handleClearOutput);\n\n    /* Handle when a new output is added */\n    events.on('output_added.OutputArea', handleAddOutput);\n\n    /**\n     * Register the mime type and append_mime function with output_area\n     */\n    OutputArea.prototype.register_mime_type(EXEC_MIME_TYPE, append_mime, {\n      /* Is output safe? */\n      safe: true,\n      /* Index of renderer in `output_area.display_order` */\n      index: 0\n    });\n  }\n\n  // register the mime type if in Jupyter Notebook environment and previously unregistered\n  if (root.Jupyter !== undefined) {\n    const events = require('base/js/events');\n    const OutputArea = require('notebook/js/outputarea').OutputArea;\n\n    if (OutputArea.prototype.mime_types().indexOf(EXEC_MIME_TYPE) == -1) {\n      register_renderer(events, OutputArea);\n    }\n  }\n  if (typeof (root._bokeh_timeout) === \"undefined\" || force === true) {\n    root._bokeh_timeout = Date.now() + 5000;\n    root._bokeh_failed_load = false;\n  }\n\n  const NB_LOAD_WARNING = {'data': {'text/html':\n     \"<div style='background-color: #fdd'>\\n\"+\n     \"<p>\\n\"+\n     \"BokehJS does not appear to have successfully loaded. If loading BokehJS from CDN, this \\n\"+\n     \"may be due to a slow or bad network connection. Possible fixes:\\n\"+\n     \"</p>\\n\"+\n     \"<ul>\\n\"+\n     \"<li>re-rerun `output_notebook()` to attempt to load from CDN again, or</li>\\n\"+\n     \"<li>use INLINE resources instead, as so:</li>\\n\"+\n     \"</ul>\\n\"+\n     \"<code>\\n\"+\n     \"from bokeh.resources import INLINE\\n\"+\n     \"output_notebook(resources=INLINE)\\n\"+\n     \"</code>\\n\"+\n     \"</div>\"}};\n\n  function display_loaded() {\n    const el = document.getElementById(\"p1001\");\n    if (el != null) {\n      el.textContent = \"BokehJS is loading...\";\n    }\n    if (root.Bokeh !== undefined) {\n      if (el != null) {\n        el.textContent = \"BokehJS \" + root.Bokeh.version + \" successfully loaded.\";\n      }\n    } else if (Date.now() < root._bokeh_timeout) {\n      setTimeout(display_loaded, 100)\n    }\n  }\n\n  function run_callbacks() {\n    try {\n      root._bokeh_onload_callbacks.forEach(function(callback) {\n        if (callback != null)\n          callback();\n      });\n    } finally {\n      delete root._bokeh_onload_callbacks\n    }\n    console.debug(\"Bokeh: all callbacks have finished\");\n  }\n\n  function load_libs(css_urls, js_urls, callback) {\n    if (css_urls == null) css_urls = [];\n    if (js_urls == null) js_urls = [];\n\n    root._bokeh_onload_callbacks.push(callback);\n    if (root._bokeh_is_loading > 0) {\n      console.debug(\"Bokeh: BokehJS is being loaded, scheduling callback at\", now());\n      return null;\n    }\n    if (js_urls == null || js_urls.length === 0) {\n      run_callbacks();\n      return null;\n    }\n    console.debug(\"Bokeh: BokehJS not loaded, scheduling load and callback at\", now());\n    root._bokeh_is_loading = css_urls.length + js_urls.length;\n\n    function on_load() {\n      root._bokeh_is_loading--;\n      if (root._bokeh_is_loading === 0) {\n        console.debug(\"Bokeh: all BokehJS libraries/stylesheets loaded\");\n        run_callbacks()\n      }\n    }\n\n    function on_error(url) {\n      console.error(\"failed to load \" + url);\n    }\n\n    for (let i = 0; i < css_urls.length; i++) {\n      const url = css_urls[i];\n      const element = document.createElement(\"link\");\n      element.onload = on_load;\n      element.onerror = on_error.bind(null, url);\n      element.rel = \"stylesheet\";\n      element.type = \"text/css\";\n      element.href = url;\n      console.debug(\"Bokeh: injecting link tag for BokehJS stylesheet: \", url);\n      document.body.appendChild(element);\n    }\n\n    for (let i = 0; i < js_urls.length; i++) {\n      const url = js_urls[i];\n      const element = document.createElement('script');\n      element.onload = on_load;\n      element.onerror = on_error.bind(null, url);\n      element.async = false;\n      element.src = url;\n      console.debug(\"Bokeh: injecting script tag for BokehJS library: \", url);\n      document.head.appendChild(element);\n    }\n  };\n\n  function inject_raw_css(css) {\n    const element = document.createElement(\"style\");\n    element.appendChild(document.createTextNode(css));\n    document.body.appendChild(element);\n  }\n\n  const js_urls = [\"https://cdn.bokeh.org/bokeh/release/bokeh-3.0.3.min.js\", \"https://cdn.bokeh.org/bokeh/release/bokeh-gl-3.0.3.min.js\", \"https://cdn.bokeh.org/bokeh/release/bokeh-widgets-3.0.3.min.js\", \"https://cdn.bokeh.org/bokeh/release/bokeh-tables-3.0.3.min.js\", \"https://cdn.bokeh.org/bokeh/release/bokeh-mathjax-3.0.3.min.js\"];\n  const css_urls = [];\n\n  const inline_js = [    function(Bokeh) {\n      Bokeh.set_log_level(\"info\");\n    },\nfunction(Bokeh) {\n    }\n  ];\n\n  function run_inline_js() {\n    if (root.Bokeh !== undefined || force === true) {\n          for (let i = 0; i < inline_js.length; i++) {\n      inline_js[i].call(root, root.Bokeh);\n    }\nif (force === true) {\n        display_loaded();\n      }} else if (Date.now() < root._bokeh_timeout) {\n      setTimeout(run_inline_js, 100);\n    } else if (!root._bokeh_failed_load) {\n      console.log(\"Bokeh: BokehJS failed to load within specified timeout.\");\n      root._bokeh_failed_load = true;\n    } else if (force !== true) {\n      const cell = $(document.getElementById(\"p1001\")).parents('.cell').data().cell;\n      cell.output_area.append_execute_result(NB_LOAD_WARNING)\n    }\n  }\n\n  if (root._bokeh_is_loading === 0) {\n    console.debug(\"Bokeh: BokehJS loaded, going straight to plotting\");\n    run_inline_js();\n  } else {\n    load_libs(css_urls, js_urls, function() {\n      console.debug(\"Bokeh: BokehJS plotting callback run at\", now());\n      run_inline_js();\n    });\n  }\n}(window));",
      "application/vnd.bokehjs_load.v0+json": "(function(root) {\n  function now() {\n    return new Date();\n  }\n\n  const force = true;\n\n  if (typeof root._bokeh_onload_callbacks === \"undefined\" || force === true) {\n    root._bokeh_onload_callbacks = [];\n    root._bokeh_is_loading = undefined;\n  }\n\n\n  if (typeof (root._bokeh_timeout) === \"undefined\" || force === true) {\n    root._bokeh_timeout = Date.now() + 5000;\n    root._bokeh_failed_load = false;\n  }\n\n  const NB_LOAD_WARNING = {'data': {'text/html':\n     \"<div style='background-color: #fdd'>\\n\"+\n     \"<p>\\n\"+\n     \"BokehJS does not appear to have successfully loaded. If loading BokehJS from CDN, this \\n\"+\n     \"may be due to a slow or bad network connection. Possible fixes:\\n\"+\n     \"</p>\\n\"+\n     \"<ul>\\n\"+\n     \"<li>re-rerun `output_notebook()` to attempt to load from CDN again, or</li>\\n\"+\n     \"<li>use INLINE resources instead, as so:</li>\\n\"+\n     \"</ul>\\n\"+\n     \"<code>\\n\"+\n     \"from bokeh.resources import INLINE\\n\"+\n     \"output_notebook(resources=INLINE)\\n\"+\n     \"</code>\\n\"+\n     \"</div>\"}};\n\n  function display_loaded() {\n    const el = document.getElementById(\"p1001\");\n    if (el != null) {\n      el.textContent = \"BokehJS is loading...\";\n    }\n    if (root.Bokeh !== undefined) {\n      if (el != null) {\n        el.textContent = \"BokehJS \" + root.Bokeh.version + \" successfully loaded.\";\n      }\n    } else if (Date.now() < root._bokeh_timeout) {\n      setTimeout(display_loaded, 100)\n    }\n  }\n\n  function run_callbacks() {\n    try {\n      root._bokeh_onload_callbacks.forEach(function(callback) {\n        if (callback != null)\n          callback();\n      });\n    } finally {\n      delete root._bokeh_onload_callbacks\n    }\n    console.debug(\"Bokeh: all callbacks have finished\");\n  }\n\n  function load_libs(css_urls, js_urls, callback) {\n    if (css_urls == null) css_urls = [];\n    if (js_urls == null) js_urls = [];\n\n    root._bokeh_onload_callbacks.push(callback);\n    if (root._bokeh_is_loading > 0) {\n      console.debug(\"Bokeh: BokehJS is being loaded, scheduling callback at\", now());\n      return null;\n    }\n    if (js_urls == null || js_urls.length === 0) {\n      run_callbacks();\n      return null;\n    }\n    console.debug(\"Bokeh: BokehJS not loaded, scheduling load and callback at\", now());\n    root._bokeh_is_loading = css_urls.length + js_urls.length;\n\n    function on_load() {\n      root._bokeh_is_loading--;\n      if (root._bokeh_is_loading === 0) {\n        console.debug(\"Bokeh: all BokehJS libraries/stylesheets loaded\");\n        run_callbacks()\n      }\n    }\n\n    function on_error(url) {\n      console.error(\"failed to load \" + url);\n    }\n\n    for (let i = 0; i < css_urls.length; i++) {\n      const url = css_urls[i];\n      const element = document.createElement(\"link\");\n      element.onload = on_load;\n      element.onerror = on_error.bind(null, url);\n      element.rel = \"stylesheet\";\n      element.type = \"text/css\";\n      element.href = url;\n      console.debug(\"Bokeh: injecting link tag for BokehJS stylesheet: \", url);\n      document.body.appendChild(element);\n    }\n\n    for (let i = 0; i < js_urls.length; i++) {\n      const url = js_urls[i];\n      const element = document.createElement('script');\n      element.onload = on_load;\n      element.onerror = on_error.bind(null, url);\n      element.async = false;\n      element.src = url;\n      console.debug(\"Bokeh: injecting script tag for BokehJS library: \", url);\n      document.head.appendChild(element);\n    }\n  };\n\n  function inject_raw_css(css) {\n    const element = document.createElement(\"style\");\n    element.appendChild(document.createTextNode(css));\n    document.body.appendChild(element);\n  }\n\n  const js_urls = [\"https://cdn.bokeh.org/bokeh/release/bokeh-3.0.3.min.js\", \"https://cdn.bokeh.org/bokeh/release/bokeh-gl-3.0.3.min.js\", \"https://cdn.bokeh.org/bokeh/release/bokeh-widgets-3.0.3.min.js\", \"https://cdn.bokeh.org/bokeh/release/bokeh-tables-3.0.3.min.js\", \"https://cdn.bokeh.org/bokeh/release/bokeh-mathjax-3.0.3.min.js\"];\n  const css_urls = [];\n\n  const inline_js = [    function(Bokeh) {\n      Bokeh.set_log_level(\"info\");\n    },\nfunction(Bokeh) {\n    }\n  ];\n\n  function run_inline_js() {\n    if (root.Bokeh !== undefined || force === true) {\n          for (let i = 0; i < inline_js.length; i++) {\n      inline_js[i].call(root, root.Bokeh);\n    }\nif (force === true) {\n        display_loaded();\n      }} else if (Date.now() < root._bokeh_timeout) {\n      setTimeout(run_inline_js, 100);\n    } else if (!root._bokeh_failed_load) {\n      console.log(\"Bokeh: BokehJS failed to load within specified timeout.\");\n      root._bokeh_failed_load = true;\n    } else if (force !== true) {\n      const cell = $(document.getElementById(\"p1001\")).parents('.cell').data().cell;\n      cell.output_area.append_execute_result(NB_LOAD_WARNING)\n    }\n  }\n\n  if (root._bokeh_is_loading === 0) {\n    console.debug(\"Bokeh: BokehJS loaded, going straight to plotting\");\n    run_inline_js();\n  } else {\n    load_libs(css_urls, js_urls, function() {\n      console.debug(\"Bokeh: BokehJS plotting callback run at\", now());\n      run_inline_js();\n    });\n  }\n}(window));"
     },
     "metadata": {},
     "output_type": "display_data"
    }
   ],
   "source": [
    "import dash\n",
    "from dash import dcc\n",
    "from dash import html\n",
    "import pandas as pd\n",
    "from dash.dependencies import Output, Input\n",
    "import plotly.graph_objects as go\n",
    "import matplotlib.pyplot as plt\n",
    "import pandas_bokeh\n",
    "import pgeocode\n",
    "import geopandas as gpd\n",
    "from geopandas import GeoDataFrame\n",
    "pandas_bokeh.output_notebook()\n",
    "import plotly.graph_objects as go\n",
    "\n",
    "\n",
    "%matplotlib inline\n",
    "\n",
    "df = pd.read_csv('C:/Users/achot/Downloads/transactions.csv')\n",
    "\n",
    "# Cleaning original data\n",
    "df = df.loc[:, ~df.columns.str.contains('^Unnamed')]  # Removes Unnamed columns\n",
    "df = df.astype({'Amount': 'float'})  # Convert column from string to float\n",
    "df = df.astype({'Zip Code': 'str'})\n",
    "df['Date'] = pd.to_datetime(df['Date'], format='%m/%d/%y')  # Convert column to datetime"
   ]
  },
  {
   "cell_type": "code",
   "execution_count": 20,
   "outputs": [
    {
     "data": {
      "text/plain": "          Date                                 Description  Amount  \\\n0   2022-01-04                                   E-Payment  542.00   \n1   2022-01-04  UBER EATS           SAN FRANCISCO       CA   26.33   \n2   2022-01-06  BT*TUTORS.COM       AUSTIN              TX   29.99   \n3   2022-01-09  MT FUJI SUSHI JAPANEMAPLEWOOD           NJ   17.81   \n4   2022-01-10  Audible             audible.com         NJ   15.66   \n..         ...                                         ...     ...   \n329 2022-12-25  NEW JERSEY E-Z PASS 888-288-6865        NJ   35.00   \n330 2022-12-27                            STEAMPOWERED.COM    5.31   \n331 2022-12-30  MACYS  SHORT HILLS 0SHORT HILLS         NJ  208.75   \n332 2022-12-30  UMI SUSHI 0001      MILLBURN            NJ  101.00   \n333 2022-12-31                                   E-Payment   81.27   \n\n                      Address         City/State    Zip Code        Country  \\\n0                         NaN                NaN         NaN            NaN   \n1           1455 MARKET ST\\n-  SAN FRANCISCO\\nCA       94103  UNITED STATES   \n2           4609 TRL CRST CIR         AUSTIN\\nTX       78735  UNITED STATES   \n3    166 MAPLEWOOD AVE\\nSTE A      MAPLEWOOD\\nNJ       07040  UNITED STATES   \n4           1 WASHINGTON PARK         NEWARK\\nNJ  07102-3122  UNITED STATES   \n..                        ...                ...         ...            ...   \n329          375 MCCARTER HWY         NEWARK\\nNJ  07114-2562  UNITED STATES   \n330   10400 NORTH EAST 4TH ST       BELLEVUE\\nWA       98004  UNITED STATES   \n331      KENNEDY PARKWAY WEST    SHORT HILLS\\nNJ       07078  UNITED STATES   \n332          339 MILLBURN AVE       MILLBURN\\nNJ       07041  UNITED STATES   \n333                       NaN                NaN         NaN            NaN   \n\n            Category  \n0            Housing  \n1        Restaurants  \n2       Subscription  \n3        Restaurants  \n4              Books  \n..               ...  \n329  Parking & Tolls  \n330    Entertainment  \n331         Clothing  \n332      Restaurants  \n333  Utilities - Gas  \n\n[334 rows x 8 columns]",
      "text/html": "<div>\n<style scoped>\n    .dataframe tbody tr th:only-of-type {\n        vertical-align: middle;\n    }\n\n    .dataframe tbody tr th {\n        vertical-align: top;\n    }\n\n    .dataframe thead th {\n        text-align: right;\n    }\n</style>\n<table border=\"1\" class=\"dataframe\">\n  <thead>\n    <tr style=\"text-align: right;\">\n      <th></th>\n      <th>Date</th>\n      <th>Description</th>\n      <th>Amount</th>\n      <th>Address</th>\n      <th>City/State</th>\n      <th>Zip Code</th>\n      <th>Country</th>\n      <th>Category</th>\n    </tr>\n  </thead>\n  <tbody>\n    <tr>\n      <th>0</th>\n      <td>2022-01-04</td>\n      <td>E-Payment</td>\n      <td>542.00</td>\n      <td>NaN</td>\n      <td>NaN</td>\n      <td>NaN</td>\n      <td>NaN</td>\n      <td>Housing</td>\n    </tr>\n    <tr>\n      <th>1</th>\n      <td>2022-01-04</td>\n      <td>UBER EATS           SAN FRANCISCO       CA</td>\n      <td>26.33</td>\n      <td>1455 MARKET ST\\n-</td>\n      <td>SAN FRANCISCO\\nCA</td>\n      <td>94103</td>\n      <td>UNITED STATES</td>\n      <td>Restaurants</td>\n    </tr>\n    <tr>\n      <th>2</th>\n      <td>2022-01-06</td>\n      <td>BT*TUTORS.COM       AUSTIN              TX</td>\n      <td>29.99</td>\n      <td>4609 TRL CRST CIR</td>\n      <td>AUSTIN\\nTX</td>\n      <td>78735</td>\n      <td>UNITED STATES</td>\n      <td>Subscription</td>\n    </tr>\n    <tr>\n      <th>3</th>\n      <td>2022-01-09</td>\n      <td>MT FUJI SUSHI JAPANEMAPLEWOOD           NJ</td>\n      <td>17.81</td>\n      <td>166 MAPLEWOOD AVE\\nSTE A</td>\n      <td>MAPLEWOOD\\nNJ</td>\n      <td>07040</td>\n      <td>UNITED STATES</td>\n      <td>Restaurants</td>\n    </tr>\n    <tr>\n      <th>4</th>\n      <td>2022-01-10</td>\n      <td>Audible             audible.com         NJ</td>\n      <td>15.66</td>\n      <td>1 WASHINGTON PARK</td>\n      <td>NEWARK\\nNJ</td>\n      <td>07102-3122</td>\n      <td>UNITED STATES</td>\n      <td>Books</td>\n    </tr>\n    <tr>\n      <th>...</th>\n      <td>...</td>\n      <td>...</td>\n      <td>...</td>\n      <td>...</td>\n      <td>...</td>\n      <td>...</td>\n      <td>...</td>\n      <td>...</td>\n    </tr>\n    <tr>\n      <th>329</th>\n      <td>2022-12-25</td>\n      <td>NEW JERSEY E-Z PASS 888-288-6865        NJ</td>\n      <td>35.00</td>\n      <td>375 MCCARTER HWY</td>\n      <td>NEWARK\\nNJ</td>\n      <td>07114-2562</td>\n      <td>UNITED STATES</td>\n      <td>Parking &amp; Tolls</td>\n    </tr>\n    <tr>\n      <th>330</th>\n      <td>2022-12-27</td>\n      <td>STEAMPOWERED.COM</td>\n      <td>5.31</td>\n      <td>10400 NORTH EAST 4TH ST</td>\n      <td>BELLEVUE\\nWA</td>\n      <td>98004</td>\n      <td>UNITED STATES</td>\n      <td>Entertainment</td>\n    </tr>\n    <tr>\n      <th>331</th>\n      <td>2022-12-30</td>\n      <td>MACYS  SHORT HILLS 0SHORT HILLS         NJ</td>\n      <td>208.75</td>\n      <td>KENNEDY PARKWAY WEST</td>\n      <td>SHORT HILLS\\nNJ</td>\n      <td>07078</td>\n      <td>UNITED STATES</td>\n      <td>Clothing</td>\n    </tr>\n    <tr>\n      <th>332</th>\n      <td>2022-12-30</td>\n      <td>UMI SUSHI 0001      MILLBURN            NJ</td>\n      <td>101.00</td>\n      <td>339 MILLBURN AVE</td>\n      <td>MILLBURN\\nNJ</td>\n      <td>07041</td>\n      <td>UNITED STATES</td>\n      <td>Restaurants</td>\n    </tr>\n    <tr>\n      <th>333</th>\n      <td>2022-12-31</td>\n      <td>E-Payment</td>\n      <td>81.27</td>\n      <td>NaN</td>\n      <td>NaN</td>\n      <td>NaN</td>\n      <td>NaN</td>\n      <td>Utilities - Gas</td>\n    </tr>\n  </tbody>\n</table>\n<p>334 rows × 8 columns</p>\n</div>"
     },
     "execution_count": 20,
     "metadata": {},
     "output_type": "execute_result"
    }
   ],
   "source": [
    "#View Dataframe\n",
    "df"
   ],
   "metadata": {
    "collapsed": false
   }
  },
  {
   "cell_type": "code",
   "execution_count": 26,
   "outputs": [
    {
     "ename": "AttributeError",
     "evalue": "'DataFrame' object has no attribute 'weekday'",
     "output_type": "error",
     "traceback": [
      "\u001B[1;31m---------------------------------------------------------------------------\u001B[0m",
      "\u001B[1;31mAttributeError\u001B[0m                            Traceback (most recent call last)",
      "Cell \u001B[1;32mIn[26], line 2\u001B[0m\n\u001B[0;32m      1\u001B[0m \u001B[38;5;66;03m#Exploratory Data Analysis\u001B[39;00m\n\u001B[1;32m----> 2\u001B[0m x \u001B[38;5;241m=\u001B[39m \u001B[43mdf\u001B[49m\u001B[38;5;241;43m.\u001B[39;49m\u001B[43mweekday\u001B[49m()\n\u001B[0;32m      3\u001B[0m y \u001B[38;5;241m=\u001B[39m df[\u001B[38;5;124m'\u001B[39m\u001B[38;5;124mAmount\u001B[39m\u001B[38;5;124m'\u001B[39m]\n\u001B[0;32m      4\u001B[0m plt\u001B[38;5;241m.\u001B[39mplot(x,y)\n",
      "File \u001B[1;32m~\\PycharmProjects\\pythonProject2\\venv\\lib\\site-packages\\pandas\\core\\generic.py:5902\u001B[0m, in \u001B[0;36mNDFrame.__getattr__\u001B[1;34m(self, name)\u001B[0m\n\u001B[0;32m   5895\u001B[0m \u001B[38;5;28;01mif\u001B[39;00m (\n\u001B[0;32m   5896\u001B[0m     name \u001B[38;5;129;01mnot\u001B[39;00m \u001B[38;5;129;01min\u001B[39;00m \u001B[38;5;28mself\u001B[39m\u001B[38;5;241m.\u001B[39m_internal_names_set\n\u001B[0;32m   5897\u001B[0m     \u001B[38;5;129;01mand\u001B[39;00m name \u001B[38;5;129;01mnot\u001B[39;00m \u001B[38;5;129;01min\u001B[39;00m \u001B[38;5;28mself\u001B[39m\u001B[38;5;241m.\u001B[39m_metadata\n\u001B[0;32m   5898\u001B[0m     \u001B[38;5;129;01mand\u001B[39;00m name \u001B[38;5;129;01mnot\u001B[39;00m \u001B[38;5;129;01min\u001B[39;00m \u001B[38;5;28mself\u001B[39m\u001B[38;5;241m.\u001B[39m_accessors\n\u001B[0;32m   5899\u001B[0m     \u001B[38;5;129;01mand\u001B[39;00m \u001B[38;5;28mself\u001B[39m\u001B[38;5;241m.\u001B[39m_info_axis\u001B[38;5;241m.\u001B[39m_can_hold_identifiers_and_holds_name(name)\n\u001B[0;32m   5900\u001B[0m ):\n\u001B[0;32m   5901\u001B[0m     \u001B[38;5;28;01mreturn\u001B[39;00m \u001B[38;5;28mself\u001B[39m[name]\n\u001B[1;32m-> 5902\u001B[0m \u001B[38;5;28;01mreturn\u001B[39;00m \u001B[38;5;28;43mobject\u001B[39;49m\u001B[38;5;241;43m.\u001B[39;49m\u001B[38;5;21;43m__getattribute__\u001B[39;49m\u001B[43m(\u001B[49m\u001B[38;5;28;43mself\u001B[39;49m\u001B[43m,\u001B[49m\u001B[43m \u001B[49m\u001B[43mname\u001B[49m\u001B[43m)\u001B[49m\n",
      "\u001B[1;31mAttributeError\u001B[0m: 'DataFrame' object has no attribute 'weekday'"
     ]
    }
   ],
   "source": [
    "#Exploratory Data Analysis\n",
    "x = df['Date']\n",
    "y = df['Amount']\n",
    "plt.plot(x,y)\n"
   ],
   "metadata": {
    "collapsed": false
   }
  },
  {
   "cell_type": "code",
   "execution_count": 33,
   "outputs": [
    {
     "data": {
      "text/plain": "<BarContainer object of 334 artists>"
     },
     "execution_count": 33,
     "metadata": {},
     "output_type": "execute_result"
    },
    {
     "data": {
      "text/plain": "<Figure size 640x480 with 1 Axes>",
      "image/png": "[encoded data removed]"
     },
     "metadata": {},
     "output_type": "display_data"
    }
   ],
   "source": [
    "#Transform x variable to group by day of the week\n",
    "days_of_week = ['Monday', 'Tuesday', 'Wednesday', 'Thursday', 'Friday', 'Saturday', 'Sunday']\n",
    "df['Date_of_Week'] = df['Date'].dt.day_name()\n",
    "df['Date_of_Week'] = pd.Categorical(df['Date_of_Week'], categories=days_of_week, ordered=True)\n",
    "df.sort_values(by='Date_of_Week', inplace=True)\n",
    "x = df['Date_of_Week']\n",
    "y = df['Amount']\n",
    "plt.bar(x,y)"
   ],
   "metadata": {
    "collapsed": false
   }
  },
  {
   "cell_type": "code",
   "execution_count": 50,
   "outputs": [
    {
     "data": {
      "application/vnd.plotly.v1+json": {
       "data": [
        {
         "lat": [
          null,
          37.7725,
          30.249,
          40.7279,
          null,
          37.4056,
          40.7859,
          null,
          40.7368,
          40.7368,
          null,
          null,
          40.7368,
          40.7279,
          40.6379,
          47.6339,
          41.3822,
          41.3822,
          null,
          null,
          30.249,
          37.4056,
          41.3822,
          null,
          null,
          null,
          47.6339,
          null,
          41.3822,
          41.3184,
          32.8756,
          41.3822,
          37.4056,
          41.3184,
          41.2815,
          41.2175,
          37.4056,
          null,
          41.3184,
          null,
          null,
          null,
          37.318,
          null,
          null,
          37.4056,
          null,
          null,
          null,
          null,
          null,
          null,
          null,
          null,
          null,
          null,
          37.7929,
          40.6203,
          37.318,
          37.3864,
          null,
          41.2175,
          null,
          37.3864,
          41.2701,
          null,
          41.2175,
          null,
          null,
          null,
          37.3864,
          null,
          41.3184,
          33.7984,
          33.7984,
          40.737,
          40.737,
          40.737,
          33.7984,
          33.7984,
          41.9846,
          33.7984,
          33.7984,
          33.7984,
          33.7984,
          37.3864,
          null,
          37.3864,
          null,
          37.318,
          33.7984,
          33.7984,
          33.7984,
          null,
          39.5805,
          41.3184,
          41.3184,
          42.4474,
          37.3864,
          42.4406,
          41.038,
          41.3184,
          37.3864,
          null,
          null,
          41.28,
          null,
          null,
          41.3082,
          37.318,
          40.6203,
          null,
          null,
          37.7621,
          33.7984,
          42.4406,
          42.4406,
          33.7984,
          42.4474,
          40.0468,
          40.0468,
          40.0468,
          42.4406,
          42.4474,
          null,
          null,
          null,
          null,
          41.3082,
          41.3184,
          null,
          null,
          41.3427,
          null,
          42.9713,
          41.3822,
          41.3822,
          35.0821,
          47.6114,
          37.318,
          null,
          null,
          null,
          40.5937,
          null,
          null,
          null,
          41.2175,
          null,
          37.8005,
          null,
          47.6155,
          42.9713,
          29.9547,
          null,
          null,
          41.2175,
          41.3312,
          41.3184,
          41.3312,
          41.3184,
          37.7621,
          40.5605,
          40.7368,
          null,
          null,
          41.3184,
          42.3647,
          47.6339,
          36.1633,
          36.1633,
          36.1633,
          36.1633,
          36.1633,
          36.1633,
          30.1044,
          30.1044,
          40.6203,
          null,
          null,
          37.8005,
          37.318,
          null,
          41.3312,
          37.3893,
          41.3154,
          41.28,
          null,
          30.1044,
          null,
          41.3822,
          null,
          41.3312,
          41.2815,
          47.6339,
          40.0468,
          null,
          40.664,
          42.9713,
          47.4483,
          47.4483,
          null,
          null,
          30.1044,
          37.3864,
          47.6339,
          41.362,
          41.3312,
          37.7725,
          37.7725,
          null,
          40.7368,
          32.8756,
          40.7015,
          40.7368,
          null,
          41.3312,
          null,
          null,
          null,
          null,
          37.318,
          40.3958,
          40.6203,
          37.3864,
          41.3184,
          null,
          null,
          null,
          39.7994,
          41.3184,
          42.9713,
          41.3184,
          41.3822,
          null,
          41.3184,
          null,
          37.7621,
          null,
          null,
          null,
          null,
          41.3312,
          40.3958,
          41.3822,
          37.318,
          47.4483,
          null,
          null,
          null,
          34.1808,
          41.3822,
          41.3822,
          40.7651,
          null,
          42.9713,
          null,
          41.3184,
          41.3184,
          40.7651,
          47.6339,
          null,
          41.3184,
          null,
          41.3184,
          42.4474,
          37.7621,
          37.7725,
          41.362,
          null,
          null,
          37.7621,
          40.6379,
          47.6339,
          null,
          null,
          42.1794,
          null,
          37.318,
          41.2175,
          null,
          37.7929,
          null,
          null,
          41.362,
          null,
          42.9713,
          null,
          41.3312,
          37.7929,
          37.7864,
          40.7139,
          47.4483,
          null,
          null,
          null,
          33.7984,
          37.7621,
          33.7984,
          41.362,
          40.7446,
          41.362,
          41.3072,
          37.318,
          null,
          47.6339,
          37.318,
          47.6339,
          null,
          41.362,
          null,
          null,
          null,
          47.6339,
          41.362,
          29.7594,
          null,
          41.3184,
          41.3082,
          null,
          42.9713,
          41.3822,
          41.3184,
          null,
          47.6339,
          null,
          47.4483,
          47.6339,
          47.6339,
          null,
          47.6155,
          40.7368,
          40.7228,
          null
         ],
         "lon": [
          null,
          -122.4147,
          -97.8414,
          -74.2656,
          null,
          -122.0775,
          -74.2568,
          null,
          -74.3271,
          -74.3271,
          null,
          null,
          -74.3271,
          -74.2656,
          -74.3682,
          -122.3476,
          -72.8585,
          -72.8585,
          null,
          null,
          -97.8414,
          -122.0775,
          -72.8585,
          null,
          null,
          null,
          -122.3476,
          null,
          -72.8585,
          -72.9318,
          -96.7495,
          -72.8585,
          -122.0775,
          -72.9318,
          -73.0287,
          -73.0549,
          -122.0775,
          null,
          -72.9318,
          null,
          null,
          null,
          -122.0449,
          null,
          null,
          -122.0775,
          null,
          null,
          null,
          null,
          null,
          null,
          null,
          null,
          null,
          null,
          -122.4079,
          -74.3106,
          -122.0449,
          -121.88,
          null,
          -73.0549,
          null,
          -121.88,
          -72.9638,
          null,
          -73.0549,
          null,
          null,
          null,
          -121.88,
          null,
          -72.9318,
          -84.3883,
          -84.3883,
          -74.1964,
          -74.1964,
          -74.1964,
          -84.3883,
          -84.3883,
          -71.5194,
          -84.3883,
          -84.3883,
          -84.3883,
          -84.3883,
          -121.88,
          null,
          -121.88,
          null,
          -122.0449,
          -84.3883,
          -84.3883,
          -84.3883,
          null,
          -104.9011,
          -72.9318,
          -72.9318,
          -76.4837,
          -121.88,
          -76.4966,
          -73.5811,
          -72.9318,
          -121.88,
          null,
          null,
          -72.8106,
          null,
          null,
          -72.9282,
          -122.0449,
          -74.3106,
          null,
          null,
          -122.3971,
          -84.3883,
          -76.4966,
          -76.4966,
          -84.3883,
          -76.4837,
          -75.531,
          -75.531,
          -75.531,
          -76.4966,
          -76.4837,
          null,
          null,
          null,
          null,
          -72.9282,
          -72.9318,
          null,
          null,
          -73.0742,
          null,
          -71.4135,
          -72.8585,
          -72.8585,
          -89.8501,
          -122.3305,
          -122.0449,
          null,
          null,
          null,
          -74.3164,
          null,
          null,
          null,
          -73.0549,
          null,
          -122.465,
          null,
          -122.2072,
          -71.4135,
          -95.4522,
          null,
          null,
          -73.0549,
          -73.2243,
          -72.9318,
          -73.2243,
          -72.9318,
          -122.3971,
          -122.4116,
          -74.3271,
          null,
          null,
          -72.9318,
          -71.1042,
          -122.3476,
          -86.6609,
          -86.6609,
          -86.6609,
          -86.6609,
          -86.6609,
          -86.6609,
          -95.5066,
          -95.5066,
          -74.3106,
          null,
          null,
          -122.465,
          -122.0449,
          null,
          -73.2243,
          -122.0783,
          -72.6968,
          -72.8106,
          null,
          -95.5066,
          null,
          -72.8585,
          null,
          -73.2243,
          -73.0287,
          -122.3476,
          -75.531,
          null,
          -74.2107,
          -71.4135,
          -122.2731,
          -122.2731,
          null,
          null,
          -95.5066,
          -121.88,
          -122.3476,
          -72.9361,
          -73.2243,
          -122.4147,
          -122.4147,
          null,
          -74.3271,
          -96.7495,
          -74.3227,
          -74.3271,
          null,
          -73.2243,
          null,
          null,
          null,
          null,
          -122.0449,
          -111.8506,
          -74.3106,
          -121.88,
          -72.9318,
          null,
          null,
          null,
          -75.5317,
          -72.9318,
          -71.4135,
          -72.9318,
          -72.8585,
          null,
          -72.9318,
          null,
          -122.3971,
          null,
          null,
          null,
          null,
          -73.2243,
          -111.8506,
          -72.8585,
          -122.0449,
          -122.2731,
          null,
          null,
          null,
          -118.309,
          -72.8585,
          -72.8585,
          -73.9858,
          null,
          -71.4135,
          null,
          -72.9318,
          -72.9318,
          -73.9858,
          -122.3476,
          null,
          -72.9318,
          null,
          -72.9318,
          -76.4837,
          -122.3971,
          -122.4147,
          -72.9361,
          null,
          null,
          -122.3971,
          -74.3682,
          -122.3476,
          null,
          null,
          -87.8059,
          null,
          -122.0449,
          -73.0549,
          null,
          -122.4079,
          null,
          null,
          -72.9361,
          null,
          -71.4135,
          null,
          -73.2243,
          -122.4079,
          -122.3892,
          -74.007,
          -122.2731,
          null,
          null,
          null,
          -84.3883,
          -122.3971,
          -84.3883,
          -72.9361,
          -73.9345,
          -72.9361,
          -72.8654,
          -122.0449,
          null,
          -122.3476,
          -122.0449,
          -122.3476,
          null,
          -72.9361,
          null,
          null,
          null,
          -122.3476,
          -72.9361,
          -95.3594,
          null,
          -72.9318,
          -72.9282,
          null,
          -71.4135,
          -72.8585,
          -72.9318,
          null,
          -122.3476,
          null,
          -122.2731,
          -122.3476,
          -122.3476,
          null,
          -122.2072,
          -74.3271,
          -74.3015,
          null
         ],
         "marker": {
          "color": [
           542.0,
           26.33,
           29.99,
           17.81,
           15.66,
           92.7,
           7.46,
           84.23,
           22.44,
           61.1,
           10.97,
           36.2,
           32.0,
           13.85,
           7.46,
           21.26,
           297.69,
           113.98,
           173.0,
           116.0,
           29.99,
           20.6,
           4.49,
           0.83,
           1.08,
           5.33,
           6.92,
           700.0,
           7.43,
           11.27,
           30.0,
           11.61,
           154.5,
           17.0,
           23.0,
           11.65,
           36.05,
           103.77,
           55.96,
           173.0,
           116.0,
           5.33,
           0.99,
           3.4,
           700.0,
           618.0,
           129.08,
           173.0,
           116.0,
           1.83,
           1.83,
           25.0,
           14.84,
           25.0,
           5.33,
           700.0,
           2924.64,
           56.5,
           0.99,
           79.76,
           79.76,
           14.38,
           79.76,
           46.58,
           24.95,
           26.39,
           4.18,
           25.0,
           173.0,
           116.0,
           26.59,
           170.15,
           46.25,
           1.95,
           3.45,
           1.95,
           7.99,
           8.99,
           1.35,
           3.35,
           5.0,
           0.85,
           0.85,
           1.35,
           1.85,
           218.19,
           25.0,
           21.27,
           546.38,
           0.99,
           0.85,
           1.7,
           4.2,
           35.0,
           18.61,
           1.79,
           24.3,
           23.19,
           32.48,
           82.5,
           7.8,
           4.24,
           6.37,
           173.0,
           116.0,
           16.42,
           281.83,
           35.0,
           6.0,
           0.99,
           29.98,
           37.22,
           35.0,
           9.99,
           2.1,
           109.31,
           291.38,
           8.7,
           186.94,
           1.65,
           1.65,
           2.65,
           75.6,
           111.71,
           12.2,
           15.87,
           173.0,
           116.0,
           300.0,
           34.33,
           2.01,
           613.08,
           6.37,
           19.54,
           25.0,
           43.95,
           138.79,
           1.1,
           0.17,
           0.99,
           1860.0,
           50.0,
           34.0,
           13.88,
           50.21,
           173.0,
           116.0,
           39.88,
           54.02,
           1707.06,
           119.58,
           137.16,
           14.99,
           30.0,
           226.39,
           25.0,
           22.31,
           24.05,
           29.92,
           20.25,
           45.0,
           9.99,
           100.0,
           150.0,
           155.91,
           300.0,
           18.07,
           149.0,
           19.11,
           2.85,
           11.83,
           16.3,
           25.0,
           25.0,
           35.74,
           44.01,
           47.08,
           62.31,
           50.0,
           12.4,
           1454.4,
           0.99,
           10.72,
           7.2,
           6.37,
           50.0,
           2.14,
           1550.0,
           54.01,
           168.8,
           24.03,
           154.79,
           48.01,
           786.95,
           37.15,
           7.0,
           168.0,
           29.0,
           39.99,
           12.1,
           24.12,
           166.0,
           116.0,
           50.0,
           82.71,
           28.7,
           53.5,
           42.26,
           1791.53,
           500.0,
           30.0,
           280.0,
           49.24,
           75.44,
           399.99,
           50.0,
           5.45,
           44.99,
           9.75,
           82.29,
           18.07,
           0.99,
           16.67,
           58.04,
           9.96,
           23.93,
           166.0,
           95.0,
           1550.0,
           42.49,
           13.81,
           39.99,
           50.0,
           10.82,
           466.24,
           102.11,
           18.68,
           9.99,
           33.42,
           2.7,
           50.49,
           122.9,
           30.0,
           25.0,
           210.17,
           0.99,
           74.52,
           166.0,
           95.0,
           35.94,
           6.38,
           111.64,
           32.0,
           1.0,
           1550.0,
           39.99,
           13.2,
           6.62,
           24.76,
           1.0,
           20.15,
           8.53,
           17.17,
           37.22,
           52.5,
           693.0,
           36.21,
           30.63,
           37.96,
           65.44,
           50.0,
           23.45,
           30.0,
           98.72,
           12.27,
           308.4,
           161.74,
           31.39,
           0.99,
           90.39,
           47.52,
           593.21,
           12.61,
           41.48,
           118.47,
           1550.0,
           39.99,
           15.9,
           7.92,
           1.53,
           1615.95,
           27.53,
           26.9,
           166.0,
           95.0,
           55.97,
           2.35,
           42.62,
           1.95,
           22.84,
           11.45,
           11.7,
           17.63,
           42.64,
           35.0,
           9.56,
           0.99,
           4.24,
           44.16,
           57.3,
           166.0,
           95.0,
           1550.0,
           4.24,
           122.0,
           377.35,
           8.99,
           61.19,
           3.0,
           15.9,
           39.99,
           60.6,
           45.0,
           56.43,
           32.21,
           5.31,
           64.68,
           25.0,
           25.0,
           35.0,
           5.31,
           208.75,
           101.0,
           81.27
          ]
         },
         "mode": "markers",
         "text": [
          null,
          "SAN FRANCISCO\nCA",
          "AUSTIN\nTX",
          "MAPLEWOOD\nNJ",
          "NEWARK\nNJ",
          "MOUNTAIN VIEW\nCA",
          "WEST ORANGE\nNJ",
          "SHORT HILLS\nNJ",
          "SHORT HILLS\nNJ",
          "SHORT HILLS\nNJ",
          "MONTVILLE\nNJ",
          "VAUXHALL\nNJ",
          "SHORT HILLS\nNJ",
          "MAPLEWOOD\nNJ",
          "SCOTCH PLAINS\nNJ",
          "SEATTLE\nWA",
          "NORTH HAVEN\nCT",
          "NORTH HAVEN\nCT",
          null,
          null,
          "AUSTIN\nTX",
          "MOUNTAIN VIEW\nCA",
          "NORTH HAVEN\nCT",
          "NEW HAVEN\nCT",
          "NEW HAVEN\nCT",
          "WOONSOCKET\nRI",
          "SEATTLE\nWA",
          null,
          "NORTH HAVEN\nCT",
          "NEW HAVEN\nCT",
          "-\nTX",
          "NORTH HAVEN\nCT",
          "MOUNTAIN VIEW\nCA",
          "NEW HAVEN\nCT",
          "ORANGE\nCT",
          "MILFORD\nCT",
          "MOUNTAIN VIEW\nCA",
          null,
          "NEW HAVEN\nCT",
          null,
          null,
          "WOONSOCKET\nRI",
          "Cupertino\nCA",
          "NEW HAVEN\nCT",
          null,
          "MOUNTAIN VIEW\nCA",
          null,
          null,
          null,
          "NEW HAVEN\nCT",
          "NEW HAVEN\nCT",
          "NEWARK\nNJ",
          "SALEM\nVA",
          "NEWARK\nNJ",
          "WOONSOCKET\nRI",
          null,
          "SAN FRANCISCO\nCA",
          "CLARK\nNJ",
          "Cupertino\nCA",
          "SAN JOSE\nCA",
          "NEW HAVEN\nCT",
          "MILFORD\nCT",
          "NEW HAVEN\nCT",
          "SAN JOSE\nCA",
          "WEST HAVEN\nCT",
          "ORANGE\nCT",
          "MILFORD\nCT",
          "NEWARK\nNJ",
          null,
          null,
          "SAN JOSE\nCA",
          "HAMDEN\nCT",
          "NEW HAVEN\nCT",
          "ATLANTA\nGA",
          "ATLANTA\nGA",
          "NEWARK\nNJ",
          "NEWARK\nNJ",
          "NEWARK\nNJ",
          "ATLANTA\nGA",
          "ATLANTA\nGA",
          "WOONSOCKET\nRI",
          "ATLANTA\nGA",
          "ATLANTA\nGA",
          "ATLANTA\nGA",
          "ATLANTA\nGA",
          "SAN JOSE\nCA",
          "NEWARK\nNJ",
          "SAN JOSE\nCA",
          null,
          "Cupertino\nCA",
          "ATLANTA\nGA",
          "ATLANTA\nGA",
          "ATLANTA\nGA",
          "NEWARK\nNJ",
          "ENGLEWOOD\nCO",
          "NEW HAVEN\nCT",
          "NEW HAVEN\nCT",
          "ITHACA\nNY",
          "SAN JOSE\nCA",
          "ITHACA\nNY",
          "RIVERSIDE\nCT",
          "NEW HAVEN\nCT",
          "SAN JOSE\nCA",
          null,
          null,
          "BRANFORD\nCT",
          "NEW HAVEN\nCT",
          "NEWARK\nNJ",
          "NEW HAVEN\nCT",
          "Cupertino\nCA",
          "CLARK\nNJ",
          "ENGLEWOOD\nCO",
          "NEWARK\nNJ",
          "SAN FRANCISCO\nCA",
          "ATLANTA\nGA",
          "ITHACA\nNY",
          "ITHACA\nNY",
          "ATLANTA\nGA",
          "ITHACA\nNY",
          "MALVERN\nPA",
          "MALVERN\nPA",
          "MALVERN\nPA",
          "ITHACA\nNY",
          "ITHACA\nNY",
          "ITHACA\nNY",
          "ITHACA\nNY",
          null,
          null,
          "WOODBRIDGE\nCT",
          "NEW HAVEN\nCT",
          "HAMDEN\nCT",
          "HAMDEN\nCT",
          "ANSONIA\nCT",
          "HAMDEN\nCT",
          "MANCHESTER\nNH",
          "NORTH HAVEN\nCT",
          "NORTH HAVEN\nCT",
          "MEMPHIS\nTN",
          "SEATTLE\nWA",
          "Cupertino\nCA",
          null,
          "NEWARK\nNJ",
          "HOUSTON\nTX",
          "COLONIA\nNJ",
          "KINNELON\nNJ",
          null,
          null,
          "MILFORD\nCT",
          null,
          "SAN FRANCISCO\nCA",
          "EASTPOINTE\nMI",
          "BELLEVUE\nWA",
          "MANCHESTER\nNH",
          "HOUSTON\nTX",
          "NEW HAVEN\nCT",
          "STRATFORD\nCT",
          "MILFORD\nCT",
          "MONROE\nCT",
          "NEW HAVEN\nCT",
          "MONROE\nCT",
          "NEW HAVEN\nCT",
          "SAN FRANCISCO\nCA",
          "REDDING\nCA",
          "SHORT HILLS\nNJ",
          "BERKELEY HEIGHTS\nNJ",
          "NEW YORK\nNY",
          "NEW HAVEN\nCT",
          "CAMBRIDGE\nMA",
          "SEATTLE\nWA",
          "NASHVILLE\nTN",
          "NASHVILLE\nTN",
          "NASHVILLE\nTN",
          "NASHVILLE\nTN",
          "NASHVILLE\nTN",
          "NASHVILLE\nTN",
          "(800) 243-9966\nTX",
          "(800) 243-9966\nTX",
          "CLARK\nNJ",
          "NEWARK\nNJ",
          "MINNEAPOLIS\nMN",
          "SAN FRANCISCO\nCA",
          "Cupertino\nCA",
          null,
          "MONROE\nCT",
          "MOUNTAIN VIEW\nCA",
          "GUILFORD\nCT",
          "BRANFORD\nCT",
          null,
          "(800) 243-9966\nTX",
          "NEW PROVIDENCE\nNJ",
          "NORTH HAVEN\nCT",
          null,
          "MONROE\nCT",
          "ORANGE\nCT",
          "SEATTLE\nWA",
          "MALVERN\nPA",
          "SPRINGFIELD\nNJ",
          "ELIZABETH\nNJ",
          "MANCHESTER\nNH",
          "SEATTLE\nWA",
          "SEATTLE\nWA",
          null,
          null,
          "(800) 243-9966\nTX",
          "San Jose\nCA",
          "SEATTLE\nWA",
          "HAMDEN\nCT",
          "MONROE\nCT",
          "SAN FRANCISCO\nCA",
          "SAN FRANCISCO\nCA",
          "RESTON\nVA",
          "SHORT HILLS\nNJ",
          "-\nTX",
          "SPRINGFIELD\nNJ",
          "SHORT HILLS\nNJ",
          "NEWARK\nNJ",
          "MONROE\nCT",
          "MIDDLETOWN\nOH",
          "MONROE\nCT",
          "MONROE\nCT",
          null,
          "Cupertino\nCA",
          "LEHI\nUT",
          "CLARK\nNJ",
          "San Jose\nCA",
          "NEW HAVEN\nCT",
          null,
          null,
          null,
          "WILMINGTON\nDE",
          "NEW HAVEN\nCT",
          "MANCHESTER\nNH",
          "NEW HAVEN\nCT",
          "NORTH HAVEN\nCT",
          "NORTH HAVEN\nCT",
          "NEW HAVEN\nCT",
          "ITHACA\nNY",
          "SAN FRANCISCO\nCA",
          "ITHACA\nNY",
          "ITHACA\nNY",
          "ITHACA\nNY",
          null,
          "MONROE\nCT",
          "LEHI\nUT",
          "NORTH HAVEN\nCT",
          "Cupertino\nCA",
          "SEATTLE\nWA",
          null,
          null,
          null,
          "BURBANK\nCA",
          "NORTH HAVEN\nCT",
          "NORTH HAVEN\nCT",
          "NEW YORK\nNY",
          null,
          "MANCHESTER\nNH",
          "NEW HAVEN\nCT",
          "NEW HAVEN\nCT",
          "NEW HAVEN\nCT",
          "NEW YORK\nNY",
          "SEATTLE\nWA",
          "NEW HAVEN\nCT",
          "NEW HAVEN\nCT",
          "ENGLEWOOD\nCO",
          "NEW HAVEN\nCT",
          "ITHACA\nNY",
          "SAN FRANCISCO\nCA",
          "SAN FRANCISCO\nCA",
          "HAMDEN\nCT",
          null,
          "NEWARK\nNJ",
          "SAN FRANCISCO\nCA",
          "SCOTCH PLAINS\nNJ",
          "SEATTLE\nWA",
          "NEWARK\nNJ",
          "TRUMBULL\nCT",
          "HIGHLAND PARK\nIL",
          null,
          "Cupertino\nCA",
          "MILFORD\nCT",
          "MELVILLE\nNY",
          "SAN FRANCISCO\nCA",
          "NEWARK\nNJ",
          "MOUNTAIN VIEW\nCA",
          "HAMDEN\nCT",
          null,
          "MANCHESTER\nNH",
          "NEWARK\nNJ",
          "MONROE\nCT",
          "SAN FRANCISCO\nCA",
          "SAN FRANCISCO\nCA",
          "NEW YORK\nNY",
          "SEATTLE\nWA",
          null,
          null,
          null,
          "ATLANTA\nGA",
          "SAN FRANCISCO\nCA",
          "ATLANTA\nGA",
          "HAMDEN\nCT",
          "LONG ISLAND CITY\nNY",
          "HAMDEN\nCT",
          "NEW HAVEN\nCT",
          "Cupertino\nCA",
          "NEWARK\nNJ",
          "SEATTLE\nWA",
          "Cupertino\nCA",
          "SEATTLE\nWA",
          null,
          "HAMDEN\nCT",
          null,
          null,
          null,
          "SEATTLE\nWA",
          "HAMDEN\nCT",
          "HOUSTON\nTX",
          "MOUNTAIN VIEW\nCA",
          "NEW HAVEN\nCT",
          "NEW HAVEN\nCT",
          "NEWARK\nNJ",
          "MANCHESTER\nNH",
          "NORTH HAVEN\nCT",
          "NEW HAVEN\nCT",
          null,
          "SEATTLE\nWA",
          "CARY\nNC",
          "SEATTLE\nWA",
          "SEATTLE\nWA",
          "SEATTLE\nWA",
          "NEWARK\nNJ",
          "BELLEVUE\nWA",
          "SHORT HILLS\nNJ",
          "MILLBURN\nNJ",
          null
         ],
         "type": "scattergeo"
        }
       ],
       "layout": {
        "template": {
         "data": {
          "histogram2dcontour": [
           {
            "type": "histogram2dcontour",
            "colorbar": {
             "outlinewidth": 0,
             "ticks": ""
            },
            "colorscale": [
             [
              0.0,
              "#0d0887"
             ],
             [
              0.1111111111111111,
              "#46039f"
             ],
             [
              0.2222222222222222,
              "#7201a8"
             ],
             [
              0.3333333333333333,
              "#9c179e"
             ],
             [
              0.4444444444444444,
              "#bd3786"
             ],
             [
              0.5555555555555556,
              "#d8576b"
             ],
             [
              0.6666666666666666,
              "#ed7953"
             ],
             [
              0.7777777777777778,
              "#fb9f3a"
             ],
             [
              0.8888888888888888,
              "#fdca26"
             ],
             [
              1.0,
              "#f0f921"
             ]
            ]
           }
          ],
          "choropleth": [
           {
            "type": "choropleth",
            "colorbar": {
             "outlinewidth": 0,
             "ticks": ""
            }
           }
          ],
          "histogram2d": [
           {
            "type": "histogram2d",
            "colorbar": {
             "outlinewidth": 0,
             "ticks": ""
            },
            "colorscale": [
             [
              0.0,
              "#0d0887"
             ],
             [
              0.1111111111111111,
              "#46039f"
             ],
             [
              0.2222222222222222,
              "#7201a8"
             ],
             [
              0.3333333333333333,
              "#9c179e"
             ],
             [
              0.4444444444444444,
              "#bd3786"
             ],
             [
              0.5555555555555556,
              "#d8576b"
             ],
             [
              0.6666666666666666,
              "#ed7953"
             ],
             [
              0.7777777777777778,
              "#fb9f3a"
             ],
             [
              0.8888888888888888,
              "#fdca26"
             ],
             [
              1.0,
              "#f0f921"
             ]
            ]
           }
          ],
          "heatmap": [
           {
            "type": "heatmap",
            "colorbar": {
             "outlinewidth": 0,
             "ticks": ""
            },
            "colorscale": [
             [
              0.0,
              "#0d0887"
             ],
             [
              0.1111111111111111,
              "#46039f"
             ],
             [
              0.2222222222222222,
              "#7201a8"
             ],
             [
              0.3333333333333333,
              "#9c179e"
             ],
             [
              0.4444444444444444,
              "#bd3786"
             ],
             [
              0.5555555555555556,
              "#d8576b"
             ],
             [
              0.6666666666666666,
              "#ed7953"
             ],
             [
              0.7777777777777778,
              "#fb9f3a"
             ],
             [
              0.8888888888888888,
              "#fdca26"
             ],
             [
              1.0,
              "#f0f921"
             ]
            ]
           }
          ],
          "heatmapgl": [
           {
            "type": "heatmapgl",
            "colorbar": {
             "outlinewidth": 0,
             "ticks": ""
            },
            "colorscale": [
             [
              0.0,
              "#0d0887"
             ],
             [
              0.1111111111111111,
              "#46039f"
             ],
             [
              0.2222222222222222,
              "#7201a8"
             ],
             [
              0.3333333333333333,
              "#9c179e"
             ],
             [
              0.4444444444444444,
              "#bd3786"
             ],
             [
              0.5555555555555556,
              "#d8576b"
             ],
             [
              0.6666666666666666,
              "#ed7953"
             ],
             [
              0.7777777777777778,
              "#fb9f3a"
             ],
             [
              0.8888888888888888,
              "#fdca26"
             ],
             [
              1.0,
              "#f0f921"
             ]
            ]
           }
          ],
          "contourcarpet": [
           {
            "type": "contourcarpet",
            "colorbar": {
             "outlinewidth": 0,
             "ticks": ""
            }
           }
          ],
          "contour": [
           {
            "type": "contour",
            "colorbar": {
             "outlinewidth": 0,
             "ticks": ""
            },
            "colorscale": [
             [
              0.0,
              "#0d0887"
             ],
             [
              0.1111111111111111,
              "#46039f"
             ],
             [
              0.2222222222222222,
              "#7201a8"
             ],
             [
              0.3333333333333333,
              "#9c179e"
             ],
             [
              0.4444444444444444,
              "#bd3786"
             ],
             [
              0.5555555555555556,
              "#d8576b"
             ],
             [
              0.6666666666666666,
              "#ed7953"
             ],
             [
              0.7777777777777778,
              "#fb9f3a"
             ],
             [
              0.8888888888888888,
              "#fdca26"
             ],
             [
              1.0,
              "#f0f921"
             ]
            ]
           }
          ],
          "surface": [
           {
            "type": "surface",
            "colorbar": {
             "outlinewidth": 0,
             "ticks": ""
            },
            "colorscale": [
             [
              0.0,
              "#0d0887"
             ],
             [
              0.1111111111111111,
              "#46039f"
             ],
             [
              0.2222222222222222,
              "#7201a8"
             ],
             [
              0.3333333333333333,
              "#9c179e"
             ],
             [
              0.4444444444444444,
              "#bd3786"
             ],
             [
              0.5555555555555556,
              "#d8576b"
             ],
             [
              0.6666666666666666,
              "#ed7953"
             ],
             [
              0.7777777777777778,
              "#fb9f3a"
             ],
             [
              0.8888888888888888,
              "#fdca26"
             ],
             [
              1.0,
              "#f0f921"
             ]
            ]
           }
          ],
          "mesh3d": [
           {
            "type": "mesh3d",
            "colorbar": {
             "outlinewidth": 0,
             "ticks": ""
            }
           }
          ],
          "scatter": [
           {
            "marker": {
             "line": {
              "color": "#283442"
             }
            },
            "type": "scatter"
           }
          ],
          "parcoords": [
           {
            "type": "parcoords",
            "line": {
             "colorbar": {
              "outlinewidth": 0,
              "ticks": ""
             }
            }
           }
          ],
          "scatterpolargl": [
           {
            "type": "scatterpolargl",
            "marker": {
             "colorbar": {
              "outlinewidth": 0,
              "ticks": ""
             }
            }
           }
          ],
          "bar": [
           {
            "error_x": {
             "color": "#f2f5fa"
            },
            "error_y": {
             "color": "#f2f5fa"
            },
            "marker": {
             "line": {
              "color": "rgb(17,17,17)",
              "width": 0.5
             },
             "pattern": {
              "fillmode": "overlay",
              "size": 10,
              "solidity": 0.2
             }
            },
            "type": "bar"
           }
          ],
          "scattergeo": [
           {
            "type": "scattergeo",
            "marker": {
             "colorbar": {
              "outlinewidth": 0,
              "ticks": ""
             }
            }
           }
          ],
          "scatterpolar": [
           {
            "type": "scatterpolar",
            "marker": {
             "colorbar": {
              "outlinewidth": 0,
              "ticks": ""
             }
            }
           }
          ],
          "histogram": [
           {
            "marker": {
             "pattern": {
              "fillmode": "overlay",
              "size": 10,
              "solidity": 0.2
             }
            },
            "type": "histogram"
           }
          ],
          "scattergl": [
           {
            "marker": {
             "line": {
              "color": "#283442"
             }
            },
            "type": "scattergl"
           }
          ],
          "scatter3d": [
           {
            "type": "scatter3d",
            "line": {
             "colorbar": {
              "outlinewidth": 0,
              "ticks": ""
             }
            },
            "marker": {
             "colorbar": {
              "outlinewidth": 0,
              "ticks": ""
             }
            }
           }
          ],
          "scattermapbox": [
           {
            "type": "scattermapbox",
            "marker": {
             "colorbar": {
              "outlinewidth": 0,
              "ticks": ""
             }
            }
           }
          ],
          "scatterternary": [
           {
            "type": "scatterternary",
            "marker": {
             "colorbar": {
              "outlinewidth": 0,
              "ticks": ""
             }
            }
           }
          ],
          "scattercarpet": [
           {
            "type": "scattercarpet",
            "marker": {
             "colorbar": {
              "outlinewidth": 0,
              "ticks": ""
             }
            }
           }
          ],
          "carpet": [
           {
            "aaxis": {
             "endlinecolor": "#A2B1C6",
             "gridcolor": "#506784",
             "linecolor": "#506784",
             "minorgridcolor": "#506784",
             "startlinecolor": "#A2B1C6"
            },
            "baxis": {
             "endlinecolor": "#A2B1C6",
             "gridcolor": "#506784",
             "linecolor": "#506784",
             "minorgridcolor": "#506784",
             "startlinecolor": "#A2B1C6"
            },
            "type": "carpet"
           }
          ],
          "table": [
           {
            "cells": {
             "fill": {
              "color": "#506784"
             },
             "line": {
              "color": "rgb(17,17,17)"
             }
            },
            "header": {
             "fill": {
              "color": "#2a3f5f"
             },
             "line": {
              "color": "rgb(17,17,17)"
             }
            },
            "type": "table"
           }
          ],
          "barpolar": [
           {
            "marker": {
             "line": {
              "color": "rgb(17,17,17)",
              "width": 0.5
             },
             "pattern": {
              "fillmode": "overlay",
              "size": 10,
              "solidity": 0.2
             }
            },
            "type": "barpolar"
           }
          ],
          "pie": [
           {
            "automargin": true,
            "type": "pie"
           }
          ]
         },
         "layout": {
          "autotypenumbers": "strict",
          "colorway": [
           "#636efa",
           "#EF553B",
           "#00cc96",
           "#ab63fa",
           "#FFA15A",
           "#19d3f3",
           "#FF6692",
           "#B6E880",
           "#FF97FF",
           "#FECB52"
          ],
          "font": {
           "color": "#f2f5fa"
          },
          "hovermode": "closest",
          "hoverlabel": {
           "align": "left"
          },
          "paper_bgcolor": "rgb(17,17,17)",
          "plot_bgcolor": "rgb(17,17,17)",
          "polar": {
           "bgcolor": "rgb(17,17,17)",
           "angularaxis": {
            "gridcolor": "#506784",
            "linecolor": "#506784",
            "ticks": ""
           },
           "radialaxis": {
            "gridcolor": "#506784",
            "linecolor": "#506784",
            "ticks": ""
           }
          },
          "ternary": {
           "bgcolor": "rgb(17,17,17)",
           "aaxis": {
            "gridcolor": "#506784",
            "linecolor": "#506784",
            "ticks": ""
           },
           "baxis": {
            "gridcolor": "#506784",
            "linecolor": "#506784",
            "ticks": ""
           },
           "caxis": {
            "gridcolor": "#506784",
            "linecolor": "#506784",
            "ticks": ""
           }
          },
          "coloraxis": {
           "colorbar": {
            "outlinewidth": 0,
            "ticks": ""
           }
          },
          "colorscale": {
           "sequential": [
            [
             0.0,
             "#0d0887"
            ],
            [
             0.1111111111111111,
             "#46039f"
            ],
            [
             0.2222222222222222,
             "#7201a8"
            ],
            [
             0.3333333333333333,
             "#9c179e"
            ],
            [
             0.4444444444444444,
             "#bd3786"
            ],
            [
             0.5555555555555556,
             "#d8576b"
            ],
            [
             0.6666666666666666,
             "#ed7953"
            ],
            [
             0.7777777777777778,
             "#fb9f3a"
            ],
            [
             0.8888888888888888,
             "#fdca26"
            ],
            [
             1.0,
             "#f0f921"
            ]
           ],
           "sequentialminus": [
            [
             0.0,
             "#0d0887"
            ],
            [
             0.1111111111111111,
             "#46039f"
            ],
            [
             0.2222222222222222,
             "#7201a8"
            ],
            [
             0.3333333333333333,
             "#9c179e"
            ],
            [
             0.4444444444444444,
             "#bd3786"
            ],
            [
             0.5555555555555556,
             "#d8576b"
            ],
            [
             0.6666666666666666,
             "#ed7953"
            ],
            [
             0.7777777777777778,
             "#fb9f3a"
            ],
            [
             0.8888888888888888,
             "#fdca26"
            ],
            [
             1.0,
             "#f0f921"
            ]
           ],
           "diverging": [
            [
             0,
             "#8e0152"
            ],
            [
             0.1,
             "#c51b7d"
            ],
            [
             0.2,
             "#de77ae"
            ],
            [
             0.3,
             "#f1b6da"
            ],
            [
             0.4,
             "#fde0ef"
            ],
            [
             0.5,
             "#f7f7f7"
            ],
            [
             0.6,
             "#e6f5d0"
            ],
            [
             0.7,
             "#b8e186"
            ],
            [
             0.8,
             "#7fbc41"
            ],
            [
             0.9,
             "#4d9221"
            ],
            [
             1,
             "#276419"
            ]
           ]
          },
          "xaxis": {
           "gridcolor": "#283442",
           "linecolor": "#506784",
           "ticks": "",
           "title": {
            "standoff": 15
           },
           "zerolinecolor": "#283442",
           "automargin": true,
           "zerolinewidth": 2
          },
          "yaxis": {
           "gridcolor": "#283442",
           "linecolor": "#506784",
           "ticks": "",
           "title": {
            "standoff": 15
           },
           "zerolinecolor": "#283442",
           "automargin": true,
           "zerolinewidth": 2
          },
          "scene": {
           "xaxis": {
            "backgroundcolor": "rgb(17,17,17)",
            "gridcolor": "#506784",
            "linecolor": "#506784",
            "showbackground": true,
            "ticks": "",
            "zerolinecolor": "#C8D4E3",
            "gridwidth": 2
           },
           "yaxis": {
            "backgroundcolor": "rgb(17,17,17)",
            "gridcolor": "#506784",
            "linecolor": "#506784",
            "showbackground": true,
            "ticks": "",
            "zerolinecolor": "#C8D4E3",
            "gridwidth": 2
           },
           "zaxis": {
            "backgroundcolor": "rgb(17,17,17)",
            "gridcolor": "#506784",
            "linecolor": "#506784",
            "showbackground": true,
            "ticks": "",
            "zerolinecolor": "#C8D4E3",
            "gridwidth": 2
           }
          },
          "shapedefaults": {
           "line": {
            "color": "#f2f5fa"
           }
          },
          "annotationdefaults": {
           "arrowcolor": "#f2f5fa",
           "arrowhead": 0,
           "arrowwidth": 1
          },
          "geo": {
           "bgcolor": "rgb(17,17,17)",
           "landcolor": "rgb(17,17,17)",
           "subunitcolor": "#506784",
           "showland": true,
           "showlakes": true,
           "lakecolor": "rgb(17,17,17)"
          },
          "title": {
           "x": 0.05
          },
          "updatemenudefaults": {
           "bgcolor": "#506784",
           "borderwidth": 0
          },
          "sliderdefaults": {
           "bgcolor": "#C8D4E3",
           "borderwidth": 1,
           "bordercolor": "rgb(17,17,17)",
           "tickwidth": 0
          },
          "mapbox": {
           "style": "dark"
          }
         }
        },
        "geo": {
         "scope": "usa"
        },
        "title": {
         "text": "Spending by Zip Code"
        }
       },
       "config": {
        "plotlyServerURL": "https://plot.ly"
       }
      },
      "text/html": "<div>                            <div id=\"f03d885e-6ac1-477a-a716-389c853f5d0c\" class=\"plotly-graph-div\" style=\"height:525px; width:100%;\"></div>            <script type=\"text/javascript\">                require([\"plotly\"], function(Plotly) {                    window.PLOTLYENV=window.PLOTLYENV || {};                                    if (document.getElementById(\"f03d885e-6ac1-477a-a716-389c853f5d0c\")) {                    Plotly.newPlot(                        \"f03d885e-6ac1-477a-a716-389c853f5d0c\",                        [{\"lat\":[null,37.7725,30.249,40.7279,null,37.4056,40.7859,null,40.7368,40.7368,null,null,40.7368,40.7279,40.6379,47.6339,41.3822,41.3822,null,null,30.249,37.4056,41.3822,null,null,null,47.6339,null,41.3822,41.3184,32.8756,41.3822,37.4056,41.3184,41.2815,41.2175,37.4056,null,41.3184,null,null,null,37.318,null,null,37.4056,null,null,null,null,null,null,null,null,null,null,37.7929,40.6203,37.318,37.3864,null,41.2175,null,37.3864,41.2701,null,41.2175,null,null,null,37.3864,null,41.3184,33.7984,33.7984,40.737,40.737,40.737,33.7984,33.7984,41.9846,33.7984,33.7984,33.7984,33.7984,37.3864,null,37.3864,null,37.318,33.7984,33.7984,33.7984,null,39.5805,41.3184,41.3184,42.4474,37.3864,42.4406,41.038,41.3184,37.3864,null,null,41.28,null,null,41.3082,37.318,40.6203,null,null,37.7621,33.7984,42.4406,42.4406,33.7984,42.4474,40.0468,40.0468,40.0468,42.4406,42.4474,null,null,null,null,41.3082,41.3184,null,null,41.3427,null,42.9713,41.3822,41.3822,35.0821,47.6114,37.318,null,null,null,40.5937,null,null,null,41.2175,null,37.8005,null,47.6155,42.9713,29.9547,null,null,41.2175,41.3312,41.3184,41.3312,41.3184,37.7621,40.5605,40.7368,null,null,41.3184,42.3647,47.6339,36.1633,36.1633,36.1633,36.1633,36.1633,36.1633,30.1044,30.1044,40.6203,null,null,37.8005,37.318,null,41.3312,37.3893,41.3154,41.28,null,30.1044,null,41.3822,null,41.3312,41.2815,47.6339,40.0468,null,40.664,42.9713,47.4483,47.4483,null,null,30.1044,37.3864,47.6339,41.362,41.3312,37.7725,37.7725,null,40.7368,32.8756,40.7015,40.7368,null,41.3312,null,null,null,null,37.318,40.3958,40.6203,37.3864,41.3184,null,null,null,39.7994,41.3184,42.9713,41.3184,41.3822,null,41.3184,null,37.7621,null,null,null,null,41.3312,40.3958,41.3822,37.318,47.4483,null,null,null,34.1808,41.3822,41.3822,40.7651,null,42.9713,null,41.3184,41.3184,40.7651,47.6339,null,41.3184,null,41.3184,42.4474,37.7621,37.7725,41.362,null,null,37.7621,40.6379,47.6339,null,null,42.1794,null,37.318,41.2175,null,37.7929,null,null,41.362,null,42.9713,null,41.3312,37.7929,37.7864,40.7139,47.4483,null,null,null,33.7984,37.7621,33.7984,41.362,40.7446,41.362,41.3072,37.318,null,47.6339,37.318,47.6339,null,41.362,null,null,null,47.6339,41.362,29.7594,null,41.3184,41.3082,null,42.9713,41.3822,41.3184,null,47.6339,null,47.4483,47.6339,47.6339,null,47.6155,40.7368,40.7228,null],\"lon\":[null,-122.4147,-97.8414,-74.2656,null,-122.0775,-74.2568,null,-74.3271,-74.3271,null,null,-74.3271,-74.2656,-74.3682,-122.3476,-72.8585,-72.8585,null,null,-97.8414,-122.0775,-72.8585,null,null,null,-122.3476,null,-72.8585,-72.9318,-96.7495,-72.8585,-122.0775,-72.9318,-73.0287,-73.0549,-122.0775,null,-72.9318,null,null,null,-122.0449,null,null,-122.0775,null,null,null,null,null,null,null,null,null,null,-122.4079,-74.3106,-122.0449,-121.88,null,-73.0549,null,-121.88,-72.9638,null,-73.0549,null,null,null,-121.88,null,-72.9318,-84.3883,-84.3883,-74.1964,-74.1964,-74.1964,-84.3883,-84.3883,-71.5194,-84.3883,-84.3883,-84.3883,-84.3883,-121.88,null,-121.88,null,-122.0449,-84.3883,-84.3883,-84.3883,null,-104.9011,-72.9318,-72.9318,-76.4837,-121.88,-76.4966,-73.5811,-72.9318,-121.88,null,null,-72.8106,null,null,-72.9282,-122.0449,-74.3106,null,null,-122.3971,-84.3883,-76.4966,-76.4966,-84.3883,-76.4837,-75.531,-75.531,-75.531,-76.4966,-76.4837,null,null,null,null,-72.9282,-72.9318,null,null,-73.0742,null,-71.4135,-72.8585,-72.8585,-89.8501,-122.3305,-122.0449,null,null,null,-74.3164,null,null,null,-73.0549,null,-122.465,null,-122.2072,-71.4135,-95.4522,null,null,-73.0549,-73.2243,-72.9318,-73.2243,-72.9318,-122.3971,-122.4116,-74.3271,null,null,-72.9318,-71.1042,-122.3476,-86.6609,-86.6609,-86.6609,-86.6609,-86.6609,-86.6609,-95.5066,-95.5066,-74.3106,null,null,-122.465,-122.0449,null,-73.2243,-122.0783,-72.6968,-72.8106,null,-95.5066,null,-72.8585,null,-73.2243,-73.0287,-122.3476,-75.531,null,-74.2107,-71.4135,-122.2731,-122.2731,null,null,-95.5066,-121.88,-122.3476,-72.9361,-73.2243,-122.4147,-122.4147,null,-74.3271,-96.7495,-74.3227,-74.3271,null,-73.2243,null,null,null,null,-122.0449,-111.8506,-74.3106,-121.88,-72.9318,null,null,null,-75.5317,-72.9318,-71.4135,-72.9318,-72.8585,null,-72.9318,null,-122.3971,null,null,null,null,-73.2243,-111.8506,-72.8585,-122.0449,-122.2731,null,null,null,-118.309,-72.8585,-72.8585,-73.9858,null,-71.4135,null,-72.9318,-72.9318,-73.9858,-122.3476,null,-72.9318,null,-72.9318,-76.4837,-122.3971,-122.4147,-72.9361,null,null,-122.3971,-74.3682,-122.3476,null,null,-87.8059,null,-122.0449,-73.0549,null,-122.4079,null,null,-72.9361,null,-71.4135,null,-73.2243,-122.4079,-122.3892,-74.007,-122.2731,null,null,null,-84.3883,-122.3971,-84.3883,-72.9361,-73.9345,-72.9361,-72.8654,-122.0449,null,-122.3476,-122.0449,-122.3476,null,-72.9361,null,null,null,-122.3476,-72.9361,-95.3594,null,-72.9318,-72.9282,null,-71.4135,-72.8585,-72.9318,null,-122.3476,null,-122.2731,-122.3476,-122.3476,null,-122.2072,-74.3271,-74.3015,null],\"marker\":{\"color\":[542.0,26.33,29.99,17.81,15.66,92.7,7.46,84.23,22.44,61.1,10.97,36.2,32.0,13.85,7.46,21.26,297.69,113.98,173.0,116.0,29.99,20.6,4.49,0.83,1.08,5.33,6.92,700.0,7.43,11.27,30.0,11.61,154.5,17.0,23.0,11.65,36.05,103.77,55.96,173.0,116.0,5.33,0.99,3.4,700.0,618.0,129.08,173.0,116.0,1.83,1.83,25.0,14.84,25.0,5.33,700.0,2924.64,56.5,0.99,79.76,79.76,14.38,79.76,46.58,24.95,26.39,4.18,25.0,173.0,116.0,26.59,170.15,46.25,1.95,3.45,1.95,7.99,8.99,1.35,3.35,5.0,0.85,0.85,1.35,1.85,218.19,25.0,21.27,546.38,0.99,0.85,1.7,4.2,35.0,18.61,1.79,24.3,23.19,32.48,82.5,7.8,4.24,6.37,173.0,116.0,16.42,281.83,35.0,6.0,0.99,29.98,37.22,35.0,9.99,2.1,109.31,291.38,8.7,186.94,1.65,1.65,2.65,75.6,111.71,12.2,15.87,173.0,116.0,300.0,34.33,2.01,613.08,6.37,19.54,25.0,43.95,138.79,1.1,0.17,0.99,1860.0,50.0,34.0,13.88,50.21,173.0,116.0,39.88,54.02,1707.06,119.58,137.16,14.99,30.0,226.39,25.0,22.31,24.05,29.92,20.25,45.0,9.99,100.0,150.0,155.91,300.0,18.07,149.0,19.11,2.85,11.83,16.3,25.0,25.0,35.74,44.01,47.08,62.31,50.0,12.4,1454.4,0.99,10.72,7.2,6.37,50.0,2.14,1550.0,54.01,168.8,24.03,154.79,48.01,786.95,37.15,7.0,168.0,29.0,39.99,12.1,24.12,166.0,116.0,50.0,82.71,28.7,53.5,42.26,1791.53,500.0,30.0,280.0,49.24,75.44,399.99,50.0,5.45,44.99,9.75,82.29,18.07,0.99,16.67,58.04,9.96,23.93,166.0,95.0,1550.0,42.49,13.81,39.99,50.0,10.82,466.24,102.11,18.68,9.99,33.42,2.7,50.49,122.9,30.0,25.0,210.17,0.99,74.52,166.0,95.0,35.94,6.38,111.64,32.0,1.0,1550.0,39.99,13.2,6.62,24.76,1.0,20.15,8.53,17.17,37.22,52.5,693.0,36.21,30.63,37.96,65.44,50.0,23.45,30.0,98.72,12.27,308.4,161.74,31.39,0.99,90.39,47.52,593.21,12.61,41.48,118.47,1550.0,39.99,15.9,7.92,1.53,1615.95,27.53,26.9,166.0,95.0,55.97,2.35,42.62,1.95,22.84,11.45,11.7,17.63,42.64,35.0,9.56,0.99,4.24,44.16,57.3,166.0,95.0,1550.0,4.24,122.0,377.35,8.99,61.19,3.0,15.9,39.99,60.6,45.0,56.43,32.21,5.31,64.68,25.0,25.0,35.0,5.31,208.75,101.0,81.27]},\"mode\":\"markers\",\"text\":[null,\"SAN FRANCISCO\\nCA\",\"AUSTIN\\nTX\",\"MAPLEWOOD\\nNJ\",\"NEWARK\\nNJ\",\"MOUNTAIN VIEW\\nCA\",\"WEST ORANGE\\nNJ\",\"SHORT HILLS\\nNJ\",\"SHORT HILLS\\nNJ\",\"SHORT HILLS\\nNJ\",\"MONTVILLE\\nNJ\",\"VAUXHALL\\nNJ\",\"SHORT HILLS\\nNJ\",\"MAPLEWOOD\\nNJ\",\"SCOTCH PLAINS\\nNJ\",\"SEATTLE\\nWA\",\"NORTH HAVEN\\nCT\",\"NORTH HAVEN\\nCT\",null,null,\"AUSTIN\\nTX\",\"MOUNTAIN VIEW\\nCA\",\"NORTH HAVEN\\nCT\",\"NEW HAVEN\\nCT\",\"NEW HAVEN\\nCT\",\"WOONSOCKET\\nRI\",\"SEATTLE\\nWA\",null,\"NORTH HAVEN\\nCT\",\"NEW HAVEN\\nCT\",\"-\\nTX\",\"NORTH HAVEN\\nCT\",\"MOUNTAIN VIEW\\nCA\",\"NEW HAVEN\\nCT\",\"ORANGE\\nCT\",\"MILFORD\\nCT\",\"MOUNTAIN VIEW\\nCA\",null,\"NEW HAVEN\\nCT\",null,null,\"WOONSOCKET\\nRI\",\"Cupertino\\nCA\",\"NEW HAVEN\\nCT\",null,\"MOUNTAIN VIEW\\nCA\",null,null,null,\"NEW HAVEN\\nCT\",\"NEW HAVEN\\nCT\",\"NEWARK\\nNJ\",\"SALEM\\nVA\",\"NEWARK\\nNJ\",\"WOONSOCKET\\nRI\",null,\"SAN FRANCISCO\\nCA\",\"CLARK\\nNJ\",\"Cupertino\\nCA\",\"SAN JOSE\\nCA\",\"NEW HAVEN\\nCT\",\"MILFORD\\nCT\",\"NEW HAVEN\\nCT\",\"SAN JOSE\\nCA\",\"WEST HAVEN\\nCT\",\"ORANGE\\nCT\",\"MILFORD\\nCT\",\"NEWARK\\nNJ\",null,null,\"SAN JOSE\\nCA\",\"HAMDEN\\nCT\",\"NEW HAVEN\\nCT\",\"ATLANTA\\nGA\",\"ATLANTA\\nGA\",\"NEWARK\\nNJ\",\"NEWARK\\nNJ\",\"NEWARK\\nNJ\",\"ATLANTA\\nGA\",\"ATLANTA\\nGA\",\"WOONSOCKET\\nRI\",\"ATLANTA\\nGA\",\"ATLANTA\\nGA\",\"ATLANTA\\nGA\",\"ATLANTA\\nGA\",\"SAN JOSE\\nCA\",\"NEWARK\\nNJ\",\"SAN JOSE\\nCA\",null,\"Cupertino\\nCA\",\"ATLANTA\\nGA\",\"ATLANTA\\nGA\",\"ATLANTA\\nGA\",\"NEWARK\\nNJ\",\"ENGLEWOOD\\nCO\",\"NEW HAVEN\\nCT\",\"NEW HAVEN\\nCT\",\"ITHACA\\nNY\",\"SAN JOSE\\nCA\",\"ITHACA\\nNY\",\"RIVERSIDE\\nCT\",\"NEW HAVEN\\nCT\",\"SAN JOSE\\nCA\",null,null,\"BRANFORD\\nCT\",\"NEW HAVEN\\nCT\",\"NEWARK\\nNJ\",\"NEW HAVEN\\nCT\",\"Cupertino\\nCA\",\"CLARK\\nNJ\",\"ENGLEWOOD\\nCO\",\"NEWARK\\nNJ\",\"SAN FRANCISCO\\nCA\",\"ATLANTA\\nGA\",\"ITHACA\\nNY\",\"ITHACA\\nNY\",\"ATLANTA\\nGA\",\"ITHACA\\nNY\",\"MALVERN\\nPA\",\"MALVERN\\nPA\",\"MALVERN\\nPA\",\"ITHACA\\nNY\",\"ITHACA\\nNY\",\"ITHACA\\nNY\",\"ITHACA\\nNY\",null,null,\"WOODBRIDGE\\nCT\",\"NEW HAVEN\\nCT\",\"HAMDEN\\nCT\",\"HAMDEN\\nCT\",\"ANSONIA\\nCT\",\"HAMDEN\\nCT\",\"MANCHESTER\\nNH\",\"NORTH HAVEN\\nCT\",\"NORTH HAVEN\\nCT\",\"MEMPHIS\\nTN\",\"SEATTLE\\nWA\",\"Cupertino\\nCA\",null,\"NEWARK\\nNJ\",\"HOUSTON\\nTX\",\"COLONIA\\nNJ\",\"KINNELON\\nNJ\",null,null,\"MILFORD\\nCT\",null,\"SAN FRANCISCO\\nCA\",\"EASTPOINTE\\nMI\",\"BELLEVUE\\nWA\",\"MANCHESTER\\nNH\",\"HOUSTON\\nTX\",\"NEW HAVEN\\nCT\",\"STRATFORD\\nCT\",\"MILFORD\\nCT\",\"MONROE\\nCT\",\"NEW HAVEN\\nCT\",\"MONROE\\nCT\",\"NEW HAVEN\\nCT\",\"SAN FRANCISCO\\nCA\",\"REDDING\\nCA\",\"SHORT HILLS\\nNJ\",\"BERKELEY HEIGHTS\\nNJ\",\"NEW YORK\\nNY\",\"NEW HAVEN\\nCT\",\"CAMBRIDGE\\nMA\",\"SEATTLE\\nWA\",\"NASHVILLE\\nTN\",\"NASHVILLE\\nTN\",\"NASHVILLE\\nTN\",\"NASHVILLE\\nTN\",\"NASHVILLE\\nTN\",\"NASHVILLE\\nTN\",\"(800) 243-9966\\nTX\",\"(800) 243-9966\\nTX\",\"CLARK\\nNJ\",\"NEWARK\\nNJ\",\"MINNEAPOLIS\\nMN\",\"SAN FRANCISCO\\nCA\",\"Cupertino\\nCA\",null,\"MONROE\\nCT\",\"MOUNTAIN VIEW\\nCA\",\"GUILFORD\\nCT\",\"BRANFORD\\nCT\",null,\"(800) 243-9966\\nTX\",\"NEW PROVIDENCE\\nNJ\",\"NORTH HAVEN\\nCT\",null,\"MONROE\\nCT\",\"ORANGE\\nCT\",\"SEATTLE\\nWA\",\"MALVERN\\nPA\",\"SPRINGFIELD\\nNJ\",\"ELIZABETH\\nNJ\",\"MANCHESTER\\nNH\",\"SEATTLE\\nWA\",\"SEATTLE\\nWA\",null,null,\"(800) 243-9966\\nTX\",\"San Jose\\nCA\",\"SEATTLE\\nWA\",\"HAMDEN\\nCT\",\"MONROE\\nCT\",\"SAN FRANCISCO\\nCA\",\"SAN FRANCISCO\\nCA\",\"RESTON\\nVA\",\"SHORT HILLS\\nNJ\",\"-\\nTX\",\"SPRINGFIELD\\nNJ\",\"SHORT HILLS\\nNJ\",\"NEWARK\\nNJ\",\"MONROE\\nCT\",\"MIDDLETOWN\\nOH\",\"MONROE\\nCT\",\"MONROE\\nCT\",null,\"Cupertino\\nCA\",\"LEHI\\nUT\",\"CLARK\\nNJ\",\"San Jose\\nCA\",\"NEW HAVEN\\nCT\",null,null,null,\"WILMINGTON\\nDE\",\"NEW HAVEN\\nCT\",\"MANCHESTER\\nNH\",\"NEW HAVEN\\nCT\",\"NORTH HAVEN\\nCT\",\"NORTH HAVEN\\nCT\",\"NEW HAVEN\\nCT\",\"ITHACA\\nNY\",\"SAN FRANCISCO\\nCA\",\"ITHACA\\nNY\",\"ITHACA\\nNY\",\"ITHACA\\nNY\",null,\"MONROE\\nCT\",\"LEHI\\nUT\",\"NORTH HAVEN\\nCT\",\"Cupertino\\nCA\",\"SEATTLE\\nWA\",null,null,null,\"BURBANK\\nCA\",\"NORTH HAVEN\\nCT\",\"NORTH HAVEN\\nCT\",\"NEW YORK\\nNY\",null,\"MANCHESTER\\nNH\",\"NEW HAVEN\\nCT\",\"NEW HAVEN\\nCT\",\"NEW HAVEN\\nCT\",\"NEW YORK\\nNY\",\"SEATTLE\\nWA\",\"NEW HAVEN\\nCT\",\"NEW HAVEN\\nCT\",\"ENGLEWOOD\\nCO\",\"NEW HAVEN\\nCT\",\"ITHACA\\nNY\",\"SAN FRANCISCO\\nCA\",\"SAN FRANCISCO\\nCA\",\"HAMDEN\\nCT\",null,\"NEWARK\\nNJ\",\"SAN FRANCISCO\\nCA\",\"SCOTCH PLAINS\\nNJ\",\"SEATTLE\\nWA\",\"NEWARK\\nNJ\",\"TRUMBULL\\nCT\",\"HIGHLAND PARK\\nIL\",null,\"Cupertino\\nCA\",\"MILFORD\\nCT\",\"MELVILLE\\nNY\",\"SAN FRANCISCO\\nCA\",\"NEWARK\\nNJ\",\"MOUNTAIN VIEW\\nCA\",\"HAMDEN\\nCT\",null,\"MANCHESTER\\nNH\",\"NEWARK\\nNJ\",\"MONROE\\nCT\",\"SAN FRANCISCO\\nCA\",\"SAN FRANCISCO\\nCA\",\"NEW YORK\\nNY\",\"SEATTLE\\nWA\",null,null,null,\"ATLANTA\\nGA\",\"SAN FRANCISCO\\nCA\",\"ATLANTA\\nGA\",\"HAMDEN\\nCT\",\"LONG ISLAND CITY\\nNY\",\"HAMDEN\\nCT\",\"NEW HAVEN\\nCT\",\"Cupertino\\nCA\",\"NEWARK\\nNJ\",\"SEATTLE\\nWA\",\"Cupertino\\nCA\",\"SEATTLE\\nWA\",null,\"HAMDEN\\nCT\",null,null,null,\"SEATTLE\\nWA\",\"HAMDEN\\nCT\",\"HOUSTON\\nTX\",\"MOUNTAIN VIEW\\nCA\",\"NEW HAVEN\\nCT\",\"NEW HAVEN\\nCT\",\"NEWARK\\nNJ\",\"MANCHESTER\\nNH\",\"NORTH HAVEN\\nCT\",\"NEW HAVEN\\nCT\",null,\"SEATTLE\\nWA\",\"CARY\\nNC\",\"SEATTLE\\nWA\",\"SEATTLE\\nWA\",\"SEATTLE\\nWA\",\"NEWARK\\nNJ\",\"BELLEVUE\\nWA\",\"SHORT HILLS\\nNJ\",\"MILLBURN\\nNJ\",null],\"type\":\"scattergeo\"}],                        {\"template\":{\"data\":{\"histogram2dcontour\":[{\"type\":\"histogram2dcontour\",\"colorbar\":{\"outlinewidth\":0,\"ticks\":\"\"},\"colorscale\":[[0.0,\"#0d0887\"],[0.1111111111111111,\"#46039f\"],[0.2222222222222222,\"#7201a8\"],[0.3333333333333333,\"#9c179e\"],[0.4444444444444444,\"#bd3786\"],[0.5555555555555556,\"#d8576b\"],[0.6666666666666666,\"#ed7953\"],[0.7777777777777778,\"#fb9f3a\"],[0.8888888888888888,\"#fdca26\"],[1.0,\"#f0f921\"]]}],\"choropleth\":[{\"type\":\"choropleth\",\"colorbar\":{\"outlinewidth\":0,\"ticks\":\"\"}}],\"histogram2d\":[{\"type\":\"histogram2d\",\"colorbar\":{\"outlinewidth\":0,\"ticks\":\"\"},\"colorscale\":[[0.0,\"#0d0887\"],[0.1111111111111111,\"#46039f\"],[0.2222222222222222,\"#7201a8\"],[0.3333333333333333,\"#9c179e\"],[0.4444444444444444,\"#bd3786\"],[0.5555555555555556,\"#d8576b\"],[0.6666666666666666,\"#ed7953\"],[0.7777777777777778,\"#fb9f3a\"],[0.8888888888888888,\"#fdca26\"],[1.0,\"#f0f921\"]]}],\"heatmap\":[{\"type\":\"heatmap\",\"colorbar\":{\"outlinewidth\":0,\"ticks\":\"\"},\"colorscale\":[[0.0,\"#0d0887\"],[0.1111111111111111,\"#46039f\"],[0.2222222222222222,\"#7201a8\"],[0.3333333333333333,\"#9c179e\"],[0.4444444444444444,\"#bd3786\"],[0.5555555555555556,\"#d8576b\"],[0.6666666666666666,\"#ed7953\"],[0.7777777777777778,\"#fb9f3a\"],[0.8888888888888888,\"#fdca26\"],[1.0,\"#f0f921\"]]}],\"heatmapgl\":[{\"type\":\"heatmapgl\",\"colorbar\":{\"outlinewidth\":0,\"ticks\":\"\"},\"colorscale\":[[0.0,\"#0d0887\"],[0.1111111111111111,\"#46039f\"],[0.2222222222222222,\"#7201a8\"],[0.3333333333333333,\"#9c179e\"],[0.4444444444444444,\"#bd3786\"],[0.5555555555555556,\"#d8576b\"],[0.6666666666666666,\"#ed7953\"],[0.7777777777777778,\"#fb9f3a\"],[0.8888888888888888,\"#fdca26\"],[1.0,\"#f0f921\"]]}],\"contourcarpet\":[{\"type\":\"contourcarpet\",\"colorbar\":{\"outlinewidth\":0,\"ticks\":\"\"}}],\"contour\":[{\"type\":\"contour\",\"colorbar\":{\"outlinewidth\":0,\"ticks\":\"\"},\"colorscale\":[[0.0,\"#0d0887\"],[0.1111111111111111,\"#46039f\"],[0.2222222222222222,\"#7201a8\"],[0.3333333333333333,\"#9c179e\"],[0.4444444444444444,\"#bd3786\"],[0.5555555555555556,\"#d8576b\"],[0.6666666666666666,\"#ed7953\"],[0.7777777777777778,\"#fb9f3a\"],[0.8888888888888888,\"#fdca26\"],[1.0,\"#f0f921\"]]}],\"surface\":[{\"type\":\"surface\",\"colorbar\":{\"outlinewidth\":0,\"ticks\":\"\"},\"colorscale\":[[0.0,\"#0d0887\"],[0.1111111111111111,\"#46039f\"],[0.2222222222222222,\"#7201a8\"],[0.3333333333333333,\"#9c179e\"],[0.4444444444444444,\"#bd3786\"],[0.5555555555555556,\"#d8576b\"],[0.6666666666666666,\"#ed7953\"],[0.7777777777777778,\"#fb9f3a\"],[0.8888888888888888,\"#fdca26\"],[1.0,\"#f0f921\"]]}],\"mesh3d\":[{\"type\":\"mesh3d\",\"colorbar\":{\"outlinewidth\":0,\"ticks\":\"\"}}],\"scatter\":[{\"marker\":{\"line\":{\"color\":\"#283442\"}},\"type\":\"scatter\"}],\"parcoords\":[{\"type\":\"parcoords\",\"line\":{\"colorbar\":{\"outlinewidth\":0,\"ticks\":\"\"}}}],\"scatterpolargl\":[{\"type\":\"scatterpolargl\",\"marker\":{\"colorbar\":{\"outlinewidth\":0,\"ticks\":\"\"}}}],\"bar\":[{\"error_x\":{\"color\":\"#f2f5fa\"},\"error_y\":{\"color\":\"#f2f5fa\"},\"marker\":{\"line\":{\"color\":\"rgb(17,17,17)\",\"width\":0.5},\"pattern\":{\"fillmode\":\"overlay\",\"size\":10,\"solidity\":0.2}},\"type\":\"bar\"}],\"scattergeo\":[{\"type\":\"scattergeo\",\"marker\":{\"colorbar\":{\"outlinewidth\":0,\"ticks\":\"\"}}}],\"scatterpolar\":[{\"type\":\"scatterpolar\",\"marker\":{\"colorbar\":{\"outlinewidth\":0,\"ticks\":\"\"}}}],\"histogram\":[{\"marker\":{\"pattern\":{\"fillmode\":\"overlay\",\"size\":10,\"solidity\":0.2}},\"type\":\"histogram\"}],\"scattergl\":[{\"marker\":{\"line\":{\"color\":\"#283442\"}},\"type\":\"scattergl\"}],\"scatter3d\":[{\"type\":\"scatter3d\",\"line\":{\"colorbar\":{\"outlinewidth\":0,\"ticks\":\"\"}},\"marker\":{\"colorbar\":{\"outlinewidth\":0,\"ticks\":\"\"}}}],\"scattermapbox\":[{\"type\":\"scattermapbox\",\"marker\":{\"colorbar\":{\"outlinewidth\":0,\"ticks\":\"\"}}}],\"scatterternary\":[{\"type\":\"scatterternary\",\"marker\":{\"colorbar\":{\"outlinewidth\":0,\"ticks\":\"\"}}}],\"scattercarpet\":[{\"type\":\"scattercarpet\",\"marker\":{\"colorbar\":{\"outlinewidth\":0,\"ticks\":\"\"}}}],\"carpet\":[{\"aaxis\":{\"endlinecolor\":\"#A2B1C6\",\"gridcolor\":\"#506784\",\"linecolor\":\"#506784\",\"minorgridcolor\":\"#506784\",\"startlinecolor\":\"#A2B1C6\"},\"baxis\":{\"endlinecolor\":\"#A2B1C6\",\"gridcolor\":\"#506784\",\"linecolor\":\"#506784\",\"minorgridcolor\":\"#506784\",\"startlinecolor\":\"#A2B1C6\"},\"type\":\"carpet\"}],\"table\":[{\"cells\":{\"fill\":{\"color\":\"#506784\"},\"line\":{\"color\":\"rgb(17,17,17)\"}},\"header\":{\"fill\":{\"color\":\"#2a3f5f\"},\"line\":{\"color\":\"rgb(17,17,17)\"}},\"type\":\"table\"}],\"barpolar\":[{\"marker\":{\"line\":{\"color\":\"rgb(17,17,17)\",\"width\":0.5},\"pattern\":{\"fillmode\":\"overlay\",\"size\":10,\"solidity\":0.2}},\"type\":\"barpolar\"}],\"pie\":[{\"automargin\":true,\"type\":\"pie\"}]},\"layout\":{\"autotypenumbers\":\"strict\",\"colorway\":[\"#636efa\",\"#EF553B\",\"#00cc96\",\"#ab63fa\",\"#FFA15A\",\"#19d3f3\",\"#FF6692\",\"#B6E880\",\"#FF97FF\",\"#FECB52\"],\"font\":{\"color\":\"#f2f5fa\"},\"hovermode\":\"closest\",\"hoverlabel\":{\"align\":\"left\"},\"paper_bgcolor\":\"rgb(17,17,17)\",\"plot_bgcolor\":\"rgb(17,17,17)\",\"polar\":{\"bgcolor\":\"rgb(17,17,17)\",\"angularaxis\":{\"gridcolor\":\"#506784\",\"linecolor\":\"#506784\",\"ticks\":\"\"},\"radialaxis\":{\"gridcolor\":\"#506784\",\"linecolor\":\"#506784\",\"ticks\":\"\"}},\"ternary\":{\"bgcolor\":\"rgb(17,17,17)\",\"aaxis\":{\"gridcolor\":\"#506784\",\"linecolor\":\"#506784\",\"ticks\":\"\"},\"baxis\":{\"gridcolor\":\"#506784\",\"linecolor\":\"#506784\",\"ticks\":\"\"},\"caxis\":{\"gridcolor\":\"#506784\",\"linecolor\":\"#506784\",\"ticks\":\"\"}},\"coloraxis\":{\"colorbar\":{\"outlinewidth\":0,\"ticks\":\"\"}},\"colorscale\":{\"sequential\":[[0.0,\"#0d0887\"],[0.1111111111111111,\"#46039f\"],[0.2222222222222222,\"#7201a8\"],[0.3333333333333333,\"#9c179e\"],[0.4444444444444444,\"#bd3786\"],[0.5555555555555556,\"#d8576b\"],[0.6666666666666666,\"#ed7953\"],[0.7777777777777778,\"#fb9f3a\"],[0.8888888888888888,\"#fdca26\"],[1.0,\"#f0f921\"]],\"sequentialminus\":[[0.0,\"#0d0887\"],[0.1111111111111111,\"#46039f\"],[0.2222222222222222,\"#7201a8\"],[0.3333333333333333,\"#9c179e\"],[0.4444444444444444,\"#bd3786\"],[0.5555555555555556,\"#d8576b\"],[0.6666666666666666,\"#ed7953\"],[0.7777777777777778,\"#fb9f3a\"],[0.8888888888888888,\"#fdca26\"],[1.0,\"#f0f921\"]],\"diverging\":[[0,\"#8e0152\"],[0.1,\"#c51b7d\"],[0.2,\"#de77ae\"],[0.3,\"#f1b6da\"],[0.4,\"#fde0ef\"],[0.5,\"#f7f7f7\"],[0.6,\"#e6f5d0\"],[0.7,\"#b8e186\"],[0.8,\"#7fbc41\"],[0.9,\"#4d9221\"],[1,\"#276419\"]]},\"xaxis\":{\"gridcolor\":\"#283442\",\"linecolor\":\"#506784\",\"ticks\":\"\",\"title\":{\"standoff\":15},\"zerolinecolor\":\"#283442\",\"automargin\":true,\"zerolinewidth\":2},\"yaxis\":{\"gridcolor\":\"#283442\",\"linecolor\":\"#506784\",\"ticks\":\"\",\"title\":{\"standoff\":15},\"zerolinecolor\":\"#283442\",\"automargin\":true,\"zerolinewidth\":2},\"scene\":{\"xaxis\":{\"backgroundcolor\":\"rgb(17,17,17)\",\"gridcolor\":\"#506784\",\"linecolor\":\"#506784\",\"showbackground\":true,\"ticks\":\"\",\"zerolinecolor\":\"#C8D4E3\",\"gridwidth\":2},\"yaxis\":{\"backgroundcolor\":\"rgb(17,17,17)\",\"gridcolor\":\"#506784\",\"linecolor\":\"#506784\",\"showbackground\":true,\"ticks\":\"\",\"zerolinecolor\":\"#C8D4E3\",\"gridwidth\":2},\"zaxis\":{\"backgroundcolor\":\"rgb(17,17,17)\",\"gridcolor\":\"#506784\",\"linecolor\":\"#506784\",\"showbackground\":true,\"ticks\":\"\",\"zerolinecolor\":\"#C8D4E3\",\"gridwidth\":2}},\"shapedefaults\":{\"line\":{\"color\":\"#f2f5fa\"}},\"annotationdefaults\":{\"arrowcolor\":\"#f2f5fa\",\"arrowhead\":0,\"arrowwidth\":1},\"geo\":{\"bgcolor\":\"rgb(17,17,17)\",\"landcolor\":\"rgb(17,17,17)\",\"subunitcolor\":\"#506784\",\"showland\":true,\"showlakes\":true,\"lakecolor\":\"rgb(17,17,17)\"},\"title\":{\"x\":0.05},\"updatemenudefaults\":{\"bgcolor\":\"#506784\",\"borderwidth\":0},\"sliderdefaults\":{\"bgcolor\":\"#C8D4E3\",\"borderwidth\":1,\"bordercolor\":\"rgb(17,17,17)\",\"tickwidth\":0},\"mapbox\":{\"style\":\"dark\"}}},\"geo\":{\"scope\":\"usa\"},\"title\":{\"text\":\"Spending by Zip Code\"}},                        {\"responsive\": true}                    ).then(function(){\n                            \nvar gd = document.getElementById('f03d885e-6ac1-477a-a716-389c853f5d0c');\nvar x = new MutationObserver(function (mutations, observer) {{\n        var display = window.getComputedStyle(gd).display;\n        if (!display || display === 'none') {{\n            console.log([gd, 'removed!']);\n            Plotly.purge(gd);\n            observer.disconnect();\n        }}\n}});\n\n// Listen for the removal of the full notebook cells\nvar notebookContainer = gd.closest('#notebook-container');\nif (notebookContainer) {{\n    x.observe(notebookContainer, {childList: true});\n}}\n\n// Listen for the clearing of the current output cell\nvar outputEl = gd.closest('.output');\nif (outputEl) {{\n    x.observe(outputEl, {childList: true});\n}}\n\n                        })                };                });            </script>        </div>"
     },
     "metadata": {},
     "output_type": "display_data"
    }
   ],
   "source": [
    "#Plot average amount spent by zipcode\n",
    "nomi = pgeocode.Nominatim('us') #Interpret zipcodes as US\n",
    "\n",
    "df['Latitude'] = (nomi.query_postal_code(df['Zip Code'].tolist()).latitude) #Create column that loads in the lattitude based on Zip Code\n",
    "df['Longitude'] = (nomi.query_postal_code(df['Zip Code'].tolist()).longitude) #Create column that loads in the longitude based on Zip Code\n",
    "\n",
    "fig = go.Figure(data=go.Scattergeo(\n",
    "        lon = df['Longitude'],\n",
    "        lat = df['Latitude'],\n",
    "        text = df['City/State'],\n",
    "        mode = 'markers',\n",
    "        marker_color = df['Amount'],\n",
    "        ))\n",
    "\n",
    "fig.update_layout(\n",
    "        title = 'Spending by Zip Code',\n",
    "        geo_scope='usa',\n",
    "    )\n",
    "fig.show()"
   ],
   "metadata": {
    "collapsed": false
   }
  },
  {
   "cell_type": "code",
   "execution_count": null,
   "outputs": [],
   "source": [],
   "metadata": {
    "collapsed": false
   }
  }
 ],
 "metadata": {
  "kernelspec": {
   "display_name": "Python 3",
   "language": "python",
   "name": "python3"
  },
  "language_info": {
   "codemirror_mode": {
    "name": "ipython",
    "version": 2
   },
   "file_extension": ".py",
   "mimetype": "text/x-python",
   "name": "python",
   "nbconvert_exporter": "python",
   "pygments_lexer": "ipython2",
   "version": "2.7.6"
  }
 },
 "nbformat": 4,
 "nbformat_minor": 0
}
